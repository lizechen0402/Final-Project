{
 "cells": [
  {
   "cell_type": "markdown",
   "metadata": {},
   "source": [
    "# FIFA World Cup Qatar 2022 Champion Prediction"
   ]
  },
  {
   "cell_type": "markdown",
   "metadata": {},
   "source": [
    "## Here're the Kaggle datasets we're using:\n",
    "1. International Football Results from 1872to 2022 \n",
    "https://www.kaggle.com/datasets/martj42/international-football-results-from-1872-to-2017\n",
    "\n",
    "\n",
    "2. FIFA Ranking for men's national teams (12.1992 - 10.2022)\n",
    "https://www.kaggle.com/datasets/cashncarry/fifaworldranking"
   ]
  },
  {
   "cell_type": "code",
   "execution_count": 1,
   "metadata": {
    "execution": {
     "iopub.execute_input": "2022-11-19T16:03:34.432935Z",
     "iopub.status.busy": "2022-11-19T16:03:34.432313Z",
     "iopub.status.idle": "2022-11-19T16:03:34.441987Z",
     "shell.execute_reply": "2022-11-19T16:03:34.440905Z",
     "shell.execute_reply.started": "2022-11-19T16:03:34.432898Z"
    }
   },
   "outputs": [],
   "source": [
    "import re\n",
    "import pandas as pd\n",
    "import numpy as np\n",
    "import matplotlib.pyplot as plt\n",
    "import seaborn as sns\n",
    "from sklearn.ensemble import RandomForestClassifier, GradientBoostingClassifier\n",
    "from sklearn.model_selection import train_test_split, GridSearchCV\n",
    "from sklearn.metrics import confusion_matrix, roc_curve, roc_auc_score"
   ]
  },
  {
   "cell_type": "markdown",
   "metadata": {},
   "source": [
    "# Data Preprocessing"
   ]
  },
  {
   "cell_type": "code",
   "execution_count": 2,
   "metadata": {
    "execution": {
     "iopub.execute_input": "2022-11-19T16:03:34.443955Z",
     "iopub.status.busy": "2022-11-19T16:03:34.443411Z",
     "iopub.status.idle": "2022-11-19T16:03:34.532574Z",
     "shell.execute_reply": "2022-11-19T16:03:34.531385Z",
     "shell.execute_reply.started": "2022-11-19T16:03:34.443915Z"
    }
   },
   "outputs": [
    {
     "data": {
      "text/plain": [
       "date          0\n",
       "home_team     0\n",
       "away_team     0\n",
       "home_score    1\n",
       "away_score    1\n",
       "tournament    0\n",
       "city          0\n",
       "country       0\n",
       "neutral       0\n",
       "dtype: int64"
      ]
     },
     "execution_count": 2,
     "metadata": {},
     "output_type": "execute_result"
    }
   ],
   "source": [
    "df = pd.read_csv(\"International Game Results.csv\")\n",
    "df[\"date\"] = pd.to_datetime(df[\"date\"])\n",
    "df.isna().sum()"
   ]
  },
  {
   "cell_type": "code",
   "execution_count": 3,
   "metadata": {
    "execution": {
     "iopub.execute_input": "2022-11-19T16:03:34.580556Z",
     "iopub.status.busy": "2022-11-19T16:03:34.580112Z",
     "iopub.status.idle": "2022-11-19T16:03:34.604967Z",
     "shell.execute_reply": "2022-11-19T16:03:34.60339Z",
     "shell.execute_reply.started": "2022-11-19T16:03:34.580521Z"
    }
   },
   "outputs": [
    {
     "data": {
      "text/plain": [
       "date          datetime64[ns]\n",
       "home_team             object\n",
       "away_team             object\n",
       "home_score           float64\n",
       "away_score           float64\n",
       "tournament            object\n",
       "city                  object\n",
       "country               object\n",
       "neutral                 bool\n",
       "dtype: object"
      ]
     },
     "execution_count": 3,
     "metadata": {},
     "output_type": "execute_result"
    }
   ],
   "source": [
    "df.dropna(inplace=True)\n",
    "df.dtypes"
   ]
  },
  {
   "cell_type": "markdown",
   "metadata": {},
   "source": [
    "### The dataset we used will be the FIFA Games between 2018, from after the 2018 World Cup to the last games before the 2022 World Cup. The idea is to analyze just the games played at the preparation and classification to World Cup."
   ]
  },
  {
   "cell_type": "code",
   "execution_count": 4,
   "metadata": {
    "execution": {
     "iopub.execute_input": "2022-11-19T16:03:34.619713Z",
     "iopub.status.busy": "2022-11-19T16:03:34.619343Z",
     "iopub.status.idle": "2022-11-19T16:03:34.645215Z",
     "shell.execute_reply": "2022-11-19T16:03:34.644124Z",
     "shell.execute_reply.started": "2022-11-19T16:03:34.619678Z"
    }
   },
   "outputs": [
    {
     "data": {
      "text/html": [
       "<div>\n",
       "<style scoped>\n",
       "    .dataframe tbody tr th:only-of-type {\n",
       "        vertical-align: middle;\n",
       "    }\n",
       "\n",
       "    .dataframe tbody tr th {\n",
       "        vertical-align: top;\n",
       "    }\n",
       "\n",
       "    .dataframe thead th {\n",
       "        text-align: right;\n",
       "    }\n",
       "</style>\n",
       "<table border=\"1\" class=\"dataframe\">\n",
       "  <thead>\n",
       "    <tr style=\"text-align: right;\">\n",
       "      <th></th>\n",
       "      <th>date</th>\n",
       "      <th>home_team</th>\n",
       "      <th>away_team</th>\n",
       "      <th>home_score</th>\n",
       "      <th>away_score</th>\n",
       "      <th>tournament</th>\n",
       "      <th>city</th>\n",
       "      <th>country</th>\n",
       "      <th>neutral</th>\n",
       "    </tr>\n",
       "  </thead>\n",
       "  <tbody>\n",
       "    <tr>\n",
       "      <th>44033</th>\n",
       "      <td>2022-09-27</td>\n",
       "      <td>Indonesia</td>\n",
       "      <td>Curaçao</td>\n",
       "      <td>2.0</td>\n",
       "      <td>1.0</td>\n",
       "      <td>Friendly</td>\n",
       "      <td>Cibinong</td>\n",
       "      <td>Indonesia</td>\n",
       "      <td>False</td>\n",
       "    </tr>\n",
       "    <tr>\n",
       "      <th>44034</th>\n",
       "      <td>2022-09-27</td>\n",
       "      <td>Iran</td>\n",
       "      <td>Senegal</td>\n",
       "      <td>1.0</td>\n",
       "      <td>1.0</td>\n",
       "      <td>Friendly</td>\n",
       "      <td>Maria Enzersdorf</td>\n",
       "      <td>Austria</td>\n",
       "      <td>True</td>\n",
       "    </tr>\n",
       "    <tr>\n",
       "      <th>44035</th>\n",
       "      <td>2022-09-27</td>\n",
       "      <td>Ivory Coast</td>\n",
       "      <td>Guinea</td>\n",
       "      <td>3.0</td>\n",
       "      <td>1.0</td>\n",
       "      <td>Friendly</td>\n",
       "      <td>Amiens</td>\n",
       "      <td>France</td>\n",
       "      <td>True</td>\n",
       "    </tr>\n",
       "    <tr>\n",
       "      <th>44027</th>\n",
       "      <td>2022-09-27</td>\n",
       "      <td>Costa Rica</td>\n",
       "      <td>Uzbekistan</td>\n",
       "      <td>2.0</td>\n",
       "      <td>1.0</td>\n",
       "      <td>Friendly</td>\n",
       "      <td>Suwon</td>\n",
       "      <td>South Korea</td>\n",
       "      <td>True</td>\n",
       "    </tr>\n",
       "    <tr>\n",
       "      <th>44058</th>\n",
       "      <td>2022-09-27</td>\n",
       "      <td>Greece</td>\n",
       "      <td>Northern Ireland</td>\n",
       "      <td>3.0</td>\n",
       "      <td>1.0</td>\n",
       "      <td>UEFA Nations League</td>\n",
       "      <td>Athens</td>\n",
       "      <td>Greece</td>\n",
       "      <td>False</td>\n",
       "    </tr>\n",
       "  </tbody>\n",
       "</table>\n",
       "</div>"
      ],
      "text/plain": [
       "            date    home_team         away_team  home_score  away_score  \\\n",
       "44033 2022-09-27    Indonesia           Curaçao         2.0         1.0   \n",
       "44034 2022-09-27         Iran           Senegal         1.0         1.0   \n",
       "44035 2022-09-27  Ivory Coast            Guinea         3.0         1.0   \n",
       "44027 2022-09-27   Costa Rica        Uzbekistan         2.0         1.0   \n",
       "44058 2022-09-27       Greece  Northern Ireland         3.0         1.0   \n",
       "\n",
       "                tournament              city      country  neutral  \n",
       "44033             Friendly          Cibinong    Indonesia    False  \n",
       "44034             Friendly  Maria Enzersdorf      Austria     True  \n",
       "44035             Friendly            Amiens       France     True  \n",
       "44027             Friendly             Suwon  South Korea     True  \n",
       "44058  UEFA Nations League            Athens       Greece    False  "
      ]
     },
     "execution_count": 4,
     "metadata": {},
     "output_type": "execute_result"
    }
   ],
   "source": [
    "df.sort_values(\"date\").tail()"
   ]
  },
  {
   "cell_type": "code",
   "execution_count": 5,
   "metadata": {
    "execution": {
     "iopub.execute_input": "2022-11-19T16:03:34.649454Z",
     "iopub.status.busy": "2022-11-19T16:03:34.648968Z",
     "iopub.status.idle": "2022-11-19T16:03:34.657931Z",
     "shell.execute_reply": "2022-11-19T16:03:34.656955Z",
     "shell.execute_reply.started": "2022-11-19T16:03:34.649409Z"
    }
   },
   "outputs": [
    {
     "data": {
      "text/html": [
       "<div>\n",
       "<style scoped>\n",
       "    .dataframe tbody tr th:only-of-type {\n",
       "        vertical-align: middle;\n",
       "    }\n",
       "\n",
       "    .dataframe tbody tr th {\n",
       "        vertical-align: top;\n",
       "    }\n",
       "\n",
       "    .dataframe thead th {\n",
       "        text-align: right;\n",
       "    }\n",
       "</style>\n",
       "<table border=\"1\" class=\"dataframe\">\n",
       "  <thead>\n",
       "    <tr style=\"text-align: right;\">\n",
       "      <th></th>\n",
       "      <th>date</th>\n",
       "      <th>home_team</th>\n",
       "      <th>away_team</th>\n",
       "      <th>home_score</th>\n",
       "      <th>away_score</th>\n",
       "      <th>tournament</th>\n",
       "      <th>city</th>\n",
       "      <th>country</th>\n",
       "      <th>neutral</th>\n",
       "    </tr>\n",
       "  </thead>\n",
       "  <tbody>\n",
       "    <tr>\n",
       "      <th>3734</th>\n",
       "      <td>2022-09-27</td>\n",
       "      <td>Indonesia</td>\n",
       "      <td>Curaçao</td>\n",
       "      <td>2.0</td>\n",
       "      <td>1.0</td>\n",
       "      <td>Friendly</td>\n",
       "      <td>Cibinong</td>\n",
       "      <td>Indonesia</td>\n",
       "      <td>False</td>\n",
       "    </tr>\n",
       "    <tr>\n",
       "      <th>3735</th>\n",
       "      <td>2022-09-27</td>\n",
       "      <td>Iran</td>\n",
       "      <td>Senegal</td>\n",
       "      <td>1.0</td>\n",
       "      <td>1.0</td>\n",
       "      <td>Friendly</td>\n",
       "      <td>Maria Enzersdorf</td>\n",
       "      <td>Austria</td>\n",
       "      <td>True</td>\n",
       "    </tr>\n",
       "    <tr>\n",
       "      <th>3736</th>\n",
       "      <td>2022-09-27</td>\n",
       "      <td>Ivory Coast</td>\n",
       "      <td>Guinea</td>\n",
       "      <td>3.0</td>\n",
       "      <td>1.0</td>\n",
       "      <td>Friendly</td>\n",
       "      <td>Amiens</td>\n",
       "      <td>France</td>\n",
       "      <td>True</td>\n",
       "    </tr>\n",
       "    <tr>\n",
       "      <th>3728</th>\n",
       "      <td>2022-09-27</td>\n",
       "      <td>Costa Rica</td>\n",
       "      <td>Uzbekistan</td>\n",
       "      <td>2.0</td>\n",
       "      <td>1.0</td>\n",
       "      <td>Friendly</td>\n",
       "      <td>Suwon</td>\n",
       "      <td>South Korea</td>\n",
       "      <td>True</td>\n",
       "    </tr>\n",
       "    <tr>\n",
       "      <th>3759</th>\n",
       "      <td>2022-09-27</td>\n",
       "      <td>Greece</td>\n",
       "      <td>Northern Ireland</td>\n",
       "      <td>3.0</td>\n",
       "      <td>1.0</td>\n",
       "      <td>UEFA Nations League</td>\n",
       "      <td>Athens</td>\n",
       "      <td>Greece</td>\n",
       "      <td>False</td>\n",
       "    </tr>\n",
       "  </tbody>\n",
       "</table>\n",
       "</div>"
      ],
      "text/plain": [
       "           date    home_team         away_team  home_score  away_score  \\\n",
       "3734 2022-09-27    Indonesia           Curaçao         2.0         1.0   \n",
       "3735 2022-09-27         Iran           Senegal         1.0         1.0   \n",
       "3736 2022-09-27  Ivory Coast            Guinea         3.0         1.0   \n",
       "3728 2022-09-27   Costa Rica        Uzbekistan         2.0         1.0   \n",
       "3759 2022-09-27       Greece  Northern Ireland         3.0         1.0   \n",
       "\n",
       "               tournament              city      country  neutral  \n",
       "3734             Friendly          Cibinong    Indonesia    False  \n",
       "3735             Friendly  Maria Enzersdorf      Austria     True  \n",
       "3736             Friendly            Amiens       France     True  \n",
       "3728             Friendly             Suwon  South Korea     True  \n",
       "3759  UEFA Nations League            Athens       Greece    False  "
      ]
     },
     "execution_count": 5,
     "metadata": {},
     "output_type": "execute_result"
    }
   ],
   "source": [
    "df = df[(df[\"date\"] >= \"2018-8-1\")].reset_index(drop=True)\n",
    "df.sort_values(\"date\").tail()"
   ]
  },
  {
   "cell_type": "code",
   "execution_count": 6,
   "metadata": {
    "execution": {
     "iopub.execute_input": "2022-11-19T16:03:34.693849Z",
     "iopub.status.busy": "2022-11-19T16:03:34.692617Z",
     "iopub.status.idle": "2022-11-19T16:03:34.704288Z",
     "shell.execute_reply": "2022-11-19T16:03:34.703185Z",
     "shell.execute_reply.started": "2022-11-19T16:03:34.693802Z"
    }
   },
   "outputs": [
    {
     "data": {
      "text/plain": [
       "United States               45\n",
       "Mexico                      40\n",
       "Qatar                       37\n",
       "Bahrain                     37\n",
       "Japan                       37\n",
       "                            ..\n",
       "Chameria                     1\n",
       "Bhutan                       1\n",
       "Alderney                     1\n",
       "Saint Helena                 1\n",
       "Northern Mariana Islands     1\n",
       "Name: home_team, Length: 247, dtype: int64"
      ]
     },
     "execution_count": 6,
     "metadata": {},
     "output_type": "execute_result"
    }
   ],
   "source": [
    "df.home_team.value_counts()"
   ]
  },
  {
   "cell_type": "code",
   "execution_count": 7,
   "metadata": {
    "execution": {
     "iopub.execute_input": "2022-11-19T16:03:34.758609Z",
     "iopub.status.busy": "2022-11-19T16:03:34.758211Z",
     "iopub.status.idle": "2022-11-19T16:03:34.836501Z",
     "shell.execute_reply": "2022-11-19T16:03:34.835434Z",
     "shell.execute_reply.started": "2022-11-19T16:03:34.75858Z"
    }
   },
   "outputs": [],
   "source": [
    "rank = pd.read_csv(\"fifa_ranking-2022-10-06.csv\")"
   ]
  },
  {
   "cell_type": "code",
   "execution_count": 8,
   "metadata": {
    "execution": {
     "iopub.execute_input": "2022-11-19T16:03:34.840135Z",
     "iopub.status.busy": "2022-11-19T16:03:34.839389Z",
     "iopub.status.idle": "2022-11-19T16:03:34.86248Z",
     "shell.execute_reply": "2022-11-19T16:03:34.861498Z",
     "shell.execute_reply.started": "2022-11-19T16:03:34.840087Z"
    }
   },
   "outputs": [],
   "source": [
    "rank[\"rank_date\"] = pd.to_datetime(rank[\"rank_date\"])\n",
    "rank = rank[(rank[\"rank_date\"] >= \"2018-8-1\")].reset_index(drop=True)"
   ]
  },
  {
   "cell_type": "markdown",
   "metadata": {},
   "source": [
    "## Since some teams in the World Cup have different names in the ranking's dataset. we'll adjust it here. "
   ]
  },
  {
   "cell_type": "code",
   "execution_count": 9,
   "metadata": {
    "execution": {
     "iopub.execute_input": "2022-11-19T16:03:34.864878Z",
     "iopub.status.busy": "2022-11-19T16:03:34.864296Z",
     "iopub.status.idle": "2022-11-19T16:03:34.888943Z",
     "shell.execute_reply": "2022-11-19T16:03:34.887752Z",
     "shell.execute_reply.started": "2022-11-19T16:03:34.864833Z"
    }
   },
   "outputs": [],
   "source": [
    "rank[\"country_full\"] = rank[\"country_full\"].str.replace(\"IR Iran\", \"Iran\").str.replace(\"Korea Republic\", \"South Korea\").str.replace(\"USA\", \"United States\")"
   ]
  },
  {
   "cell_type": "code",
   "execution_count": 10,
   "metadata": {
    "execution": {
     "iopub.execute_input": "2022-11-19T16:03:34.890656Z",
     "iopub.status.busy": "2022-11-19T16:03:34.890284Z",
     "iopub.status.idle": "2022-11-19T16:03:35.708142Z",
     "shell.execute_reply": "2022-11-19T16:03:35.70659Z",
     "shell.execute_reply.started": "2022-11-19T16:03:34.890623Z"
    }
   },
   "outputs": [],
   "source": [
    "rank = rank.set_index(['rank_date']).groupby(['country_full'], group_keys=False).resample('D').first().fillna(method='ffill').reset_index()"
   ]
  },
  {
   "cell_type": "markdown",
   "metadata": {},
   "source": [
    "## We're going to merge the datasets is made in order to get a dataset FIFA games and its rankings.\n",
    "Here're the links where we learned to merge the datasets:\n",
    "1. https://www.digitalocean.com/community/tutorials/pandas-merge-two-dataframe\n",
    "2. https://jakevdp.github.io/PythonDataScienceHandbook/03.07-merge-and-join.html"
   ]
  },
  {
   "cell_type": "code",
   "execution_count": 11,
   "metadata": {
    "execution": {
     "iopub.execute_input": "2022-11-19T16:03:35.71312Z",
     "iopub.status.busy": "2022-11-19T16:03:35.712578Z",
     "iopub.status.idle": "2022-11-19T16:03:35.847112Z",
     "shell.execute_reply": "2022-11-19T16:03:35.846056Z",
     "shell.execute_reply.started": "2022-11-19T16:03:35.713057Z"
    }
   },
   "outputs": [
    {
     "data": {
      "text/html": [
       "<div>\n",
       "<style scoped>\n",
       "    .dataframe tbody tr th:only-of-type {\n",
       "        vertical-align: middle;\n",
       "    }\n",
       "\n",
       "    .dataframe tbody tr th {\n",
       "        vertical-align: top;\n",
       "    }\n",
       "\n",
       "    .dataframe thead th {\n",
       "        text-align: right;\n",
       "    }\n",
       "</style>\n",
       "<table border=\"1\" class=\"dataframe\">\n",
       "  <thead>\n",
       "    <tr style=\"text-align: right;\">\n",
       "      <th></th>\n",
       "      <th>date</th>\n",
       "      <th>home_team</th>\n",
       "      <th>away_team</th>\n",
       "      <th>home_score</th>\n",
       "      <th>away_score</th>\n",
       "      <th>tournament</th>\n",
       "      <th>city</th>\n",
       "      <th>country</th>\n",
       "      <th>neutral</th>\n",
       "      <th>total_points_home</th>\n",
       "      <th>previous_points_home</th>\n",
       "      <th>rank_home</th>\n",
       "      <th>rank_change_home</th>\n",
       "      <th>total_points_away</th>\n",
       "      <th>previous_points_away</th>\n",
       "      <th>rank_away</th>\n",
       "      <th>rank_change_away</th>\n",
       "    </tr>\n",
       "  </thead>\n",
       "  <tbody>\n",
       "    <tr>\n",
       "      <th>2528</th>\n",
       "      <td>2021-11-11</td>\n",
       "      <td>Brazil</td>\n",
       "      <td>Colombia</td>\n",
       "      <td>1.0</td>\n",
       "      <td>0.0</td>\n",
       "      <td>FIFA World Cup qualification</td>\n",
       "      <td>São Paulo</td>\n",
       "      <td>Brazil</td>\n",
       "      <td>False</td>\n",
       "      <td>1820.36</td>\n",
       "      <td>1811.73</td>\n",
       "      <td>2.0</td>\n",
       "      <td>0.0</td>\n",
       "      <td>1618.76</td>\n",
       "      <td>1618.40</td>\n",
       "      <td>16.0</td>\n",
       "      <td>0.0</td>\n",
       "    </tr>\n",
       "    <tr>\n",
       "      <th>2629</th>\n",
       "      <td>2021-11-16</td>\n",
       "      <td>Argentina</td>\n",
       "      <td>Brazil</td>\n",
       "      <td>0.0</td>\n",
       "      <td>0.0</td>\n",
       "      <td>FIFA World Cup qualification</td>\n",
       "      <td>San Juan</td>\n",
       "      <td>Argentina</td>\n",
       "      <td>False</td>\n",
       "      <td>1738.79</td>\n",
       "      <td>1725.31</td>\n",
       "      <td>6.0</td>\n",
       "      <td>0.0</td>\n",
       "      <td>1820.36</td>\n",
       "      <td>1811.73</td>\n",
       "      <td>2.0</td>\n",
       "      <td>0.0</td>\n",
       "    </tr>\n",
       "    <tr>\n",
       "      <th>2737</th>\n",
       "      <td>2022-01-27</td>\n",
       "      <td>Ecuador</td>\n",
       "      <td>Brazil</td>\n",
       "      <td>1.0</td>\n",
       "      <td>1.0</td>\n",
       "      <td>FIFA World Cup qualification</td>\n",
       "      <td>Quito</td>\n",
       "      <td>Ecuador</td>\n",
       "      <td>False</td>\n",
       "      <td>1448.27</td>\n",
       "      <td>1448.74</td>\n",
       "      <td>46.0</td>\n",
       "      <td>0.0</td>\n",
       "      <td>1826.35</td>\n",
       "      <td>1826.35</td>\n",
       "      <td>2.0</td>\n",
       "      <td>0.0</td>\n",
       "    </tr>\n",
       "    <tr>\n",
       "      <th>2770</th>\n",
       "      <td>2022-02-01</td>\n",
       "      <td>Brazil</td>\n",
       "      <td>Paraguay</td>\n",
       "      <td>4.0</td>\n",
       "      <td>0.0</td>\n",
       "      <td>FIFA World Cup qualification</td>\n",
       "      <td>Belo Horizonte</td>\n",
       "      <td>Brazil</td>\n",
       "      <td>False</td>\n",
       "      <td>1826.35</td>\n",
       "      <td>1826.35</td>\n",
       "      <td>2.0</td>\n",
       "      <td>0.0</td>\n",
       "      <td>1454.52</td>\n",
       "      <td>1454.52</td>\n",
       "      <td>43.0</td>\n",
       "      <td>0.0</td>\n",
       "    </tr>\n",
       "    <tr>\n",
       "      <th>2811</th>\n",
       "      <td>2022-03-24</td>\n",
       "      <td>Brazil</td>\n",
       "      <td>Chile</td>\n",
       "      <td>4.0</td>\n",
       "      <td>0.0</td>\n",
       "      <td>FIFA World Cup qualification</td>\n",
       "      <td>Rio de Janeiro</td>\n",
       "      <td>Brazil</td>\n",
       "      <td>False</td>\n",
       "      <td>1823.42</td>\n",
       "      <td>1826.35</td>\n",
       "      <td>2.0</td>\n",
       "      <td>0.0</td>\n",
       "      <td>1543.16</td>\n",
       "      <td>1543.42</td>\n",
       "      <td>26.0</td>\n",
       "      <td>2.0</td>\n",
       "    </tr>\n",
       "    <tr>\n",
       "      <th>2894</th>\n",
       "      <td>2022-03-29</td>\n",
       "      <td>Bolivia</td>\n",
       "      <td>Brazil</td>\n",
       "      <td>0.0</td>\n",
       "      <td>4.0</td>\n",
       "      <td>FIFA World Cup qualification</td>\n",
       "      <td>La Paz</td>\n",
       "      <td>Bolivia</td>\n",
       "      <td>False</td>\n",
       "      <td>1308.12</td>\n",
       "      <td>1324.21</td>\n",
       "      <td>76.0</td>\n",
       "      <td>-1.0</td>\n",
       "      <td>1823.42</td>\n",
       "      <td>1826.35</td>\n",
       "      <td>2.0</td>\n",
       "      <td>0.0</td>\n",
       "    </tr>\n",
       "    <tr>\n",
       "      <th>2986</th>\n",
       "      <td>2022-06-02</td>\n",
       "      <td>South Korea</td>\n",
       "      <td>Brazil</td>\n",
       "      <td>1.0</td>\n",
       "      <td>5.0</td>\n",
       "      <td>Friendly</td>\n",
       "      <td>Seoul</td>\n",
       "      <td>South Korea</td>\n",
       "      <td>False</td>\n",
       "      <td>1519.54</td>\n",
       "      <td>1522.85</td>\n",
       "      <td>29.0</td>\n",
       "      <td>0.0</td>\n",
       "      <td>1832.69</td>\n",
       "      <td>1823.42</td>\n",
       "      <td>1.0</td>\n",
       "      <td>-1.0</td>\n",
       "    </tr>\n",
       "    <tr>\n",
       "      <th>3054</th>\n",
       "      <td>2022-06-06</td>\n",
       "      <td>Japan</td>\n",
       "      <td>Brazil</td>\n",
       "      <td>0.0</td>\n",
       "      <td>1.0</td>\n",
       "      <td>Friendly</td>\n",
       "      <td>Tokyo</td>\n",
       "      <td>Japan</td>\n",
       "      <td>False</td>\n",
       "      <td>1553.44</td>\n",
       "      <td>1549.82</td>\n",
       "      <td>23.0</td>\n",
       "      <td>0.0</td>\n",
       "      <td>1832.69</td>\n",
       "      <td>1823.42</td>\n",
       "      <td>1.0</td>\n",
       "      <td>-1.0</td>\n",
       "    </tr>\n",
       "    <tr>\n",
       "      <th>3231</th>\n",
       "      <td>2022-09-23</td>\n",
       "      <td>Brazil</td>\n",
       "      <td>Ghana</td>\n",
       "      <td>3.0</td>\n",
       "      <td>0.0</td>\n",
       "      <td>Friendly</td>\n",
       "      <td>Le Havre</td>\n",
       "      <td>France</td>\n",
       "      <td>True</td>\n",
       "      <td>1837.56</td>\n",
       "      <td>1837.56</td>\n",
       "      <td>1.0</td>\n",
       "      <td>0.0</td>\n",
       "      <td>1393.47</td>\n",
       "      <td>1389.68</td>\n",
       "      <td>60.0</td>\n",
       "      <td>0.0</td>\n",
       "    </tr>\n",
       "    <tr>\n",
       "      <th>3300</th>\n",
       "      <td>2022-09-27</td>\n",
       "      <td>Brazil</td>\n",
       "      <td>Tunisia</td>\n",
       "      <td>5.0</td>\n",
       "      <td>1.0</td>\n",
       "      <td>Friendly</td>\n",
       "      <td>Paris</td>\n",
       "      <td>France</td>\n",
       "      <td>True</td>\n",
       "      <td>1837.56</td>\n",
       "      <td>1837.56</td>\n",
       "      <td>1.0</td>\n",
       "      <td>0.0</td>\n",
       "      <td>1507.86</td>\n",
       "      <td>1507.86</td>\n",
       "      <td>30.0</td>\n",
       "      <td>0.0</td>\n",
       "    </tr>\n",
       "  </tbody>\n",
       "</table>\n",
       "</div>"
      ],
      "text/plain": [
       "           date    home_team away_team  home_score  away_score  \\\n",
       "2528 2021-11-11       Brazil  Colombia         1.0         0.0   \n",
       "2629 2021-11-16    Argentina    Brazil         0.0         0.0   \n",
       "2737 2022-01-27      Ecuador    Brazil         1.0         1.0   \n",
       "2770 2022-02-01       Brazil  Paraguay         4.0         0.0   \n",
       "2811 2022-03-24       Brazil     Chile         4.0         0.0   \n",
       "2894 2022-03-29      Bolivia    Brazil         0.0         4.0   \n",
       "2986 2022-06-02  South Korea    Brazil         1.0         5.0   \n",
       "3054 2022-06-06        Japan    Brazil         0.0         1.0   \n",
       "3231 2022-09-23       Brazil     Ghana         3.0         0.0   \n",
       "3300 2022-09-27       Brazil   Tunisia         5.0         1.0   \n",
       "\n",
       "                        tournament            city      country  neutral  \\\n",
       "2528  FIFA World Cup qualification       São Paulo       Brazil    False   \n",
       "2629  FIFA World Cup qualification        San Juan    Argentina    False   \n",
       "2737  FIFA World Cup qualification           Quito      Ecuador    False   \n",
       "2770  FIFA World Cup qualification  Belo Horizonte       Brazil    False   \n",
       "2811  FIFA World Cup qualification  Rio de Janeiro       Brazil    False   \n",
       "2894  FIFA World Cup qualification          La Paz      Bolivia    False   \n",
       "2986                      Friendly           Seoul  South Korea    False   \n",
       "3054                      Friendly           Tokyo        Japan    False   \n",
       "3231                      Friendly        Le Havre       France     True   \n",
       "3300                      Friendly           Paris       France     True   \n",
       "\n",
       "      total_points_home  previous_points_home  rank_home  rank_change_home  \\\n",
       "2528            1820.36               1811.73        2.0               0.0   \n",
       "2629            1738.79               1725.31        6.0               0.0   \n",
       "2737            1448.27               1448.74       46.0               0.0   \n",
       "2770            1826.35               1826.35        2.0               0.0   \n",
       "2811            1823.42               1826.35        2.0               0.0   \n",
       "2894            1308.12               1324.21       76.0              -1.0   \n",
       "2986            1519.54               1522.85       29.0               0.0   \n",
       "3054            1553.44               1549.82       23.0               0.0   \n",
       "3231            1837.56               1837.56        1.0               0.0   \n",
       "3300            1837.56               1837.56        1.0               0.0   \n",
       "\n",
       "      total_points_away  previous_points_away  rank_away  rank_change_away  \n",
       "2528            1618.76               1618.40       16.0               0.0  \n",
       "2629            1820.36               1811.73        2.0               0.0  \n",
       "2737            1826.35               1826.35        2.0               0.0  \n",
       "2770            1454.52               1454.52       43.0               0.0  \n",
       "2811            1543.16               1543.42       26.0               2.0  \n",
       "2894            1823.42               1826.35        2.0               0.0  \n",
       "2986            1832.69               1823.42        1.0              -1.0  \n",
       "3054            1832.69               1823.42        1.0              -1.0  \n",
       "3231            1393.47               1389.68       60.0               0.0  \n",
       "3300            1507.86               1507.86       30.0               0.0  "
      ]
     },
     "execution_count": 11,
     "metadata": {},
     "output_type": "execute_result"
    }
   ],
   "source": [
    "df_wc_ranked = df.merge(rank[[\"country_full\", \"total_points\", \"previous_points\", \"rank\", \"rank_change\", \"rank_date\"]], left_on=[\"date\", \"home_team\"], right_on=[\"rank_date\", \"country_full\"]).drop([\"rank_date\", \"country_full\"], axis=1)\n",
    "df_wc_ranked = df_wc_ranked.merge(rank[[\"country_full\", \"total_points\", \"previous_points\", \"rank\", \"rank_change\", \"rank_date\"]], left_on=[\"date\", \"away_team\"], right_on=[\"rank_date\", \"country_full\"], suffixes=(\"_home\", \"_away\")).drop([\"rank_date\", \"country_full\"], axis=1)\n",
    "\n",
    "df_wc_ranked[(df_wc_ranked.home_team == \"Brazil\") | (df_wc_ranked.away_team == \"Brazil\")].tail(10)"
   ]
  },
  {
   "cell_type": "markdown",
   "metadata": {},
   "source": [
    "## Now, we have the data ready to create features based on the games' results and FIFA rankings. The idea here is to create possible features that have impact on predicting football games. By intuition, we say that features that impact could be:\n",
    "\n",
    "- Past game points made\n",
    "- Past goals scored and suffered\n",
    "- The importance of game (friendly or not)\n",
    "- Rank of the teams \n",
    "- Rank increasement of the teams\n",
    "- Goals made and suffered by ranking faced"
   ]
  },
  {
   "cell_type": "code",
   "execution_count": 12,
   "metadata": {
    "execution": {
     "iopub.execute_input": "2022-11-19T16:03:35.888746Z",
     "iopub.status.busy": "2022-11-19T16:03:35.888019Z",
     "iopub.status.idle": "2022-11-19T16:03:35.894255Z",
     "shell.execute_reply": "2022-11-19T16:03:35.892886Z",
     "shell.execute_reply.started": "2022-11-19T16:03:35.888712Z"
    }
   },
   "outputs": [],
   "source": [
    "df = df_wc_ranked"
   ]
  },
  {
   "cell_type": "code",
   "execution_count": 13,
   "metadata": {
    "execution": {
     "iopub.execute_input": "2022-11-19T16:03:35.896113Z",
     "iopub.status.busy": "2022-11-19T16:03:35.895765Z",
     "iopub.status.idle": "2022-11-19T16:03:36.52543Z",
     "shell.execute_reply": "2022-11-19T16:03:36.523931Z",
     "shell.execute_reply.started": "2022-11-19T16:03:35.896082Z"
    }
   },
   "outputs": [],
   "source": [
    "def result_finder(home, away):\n",
    "    if home > away:\n",
    "        return pd.Series([0, 3, 0])\n",
    "    if home < away:\n",
    "        return pd.Series([1, 0, 3])\n",
    "    else:\n",
    "        return pd.Series([2, 1, 1])\n",
    "\n",
    "results = df.apply(lambda x: result_finder(x[\"home_score\"], x[\"away_score\"]), axis=1)"
   ]
  },
  {
   "cell_type": "code",
   "execution_count": 14,
   "metadata": {
    "execution": {
     "iopub.execute_input": "2022-11-19T16:03:36.527901Z",
     "iopub.status.busy": "2022-11-19T16:03:36.527404Z",
     "iopub.status.idle": "2022-11-19T16:03:36.535888Z",
     "shell.execute_reply": "2022-11-19T16:03:36.53508Z",
     "shell.execute_reply.started": "2022-11-19T16:03:36.527847Z"
    }
   },
   "outputs": [],
   "source": [
    "df[[\"result\", \"home_team_points\", \"away_team_points\"]] = results"
   ]
  },
  {
   "cell_type": "markdown",
   "metadata": {},
   "source": [
    "## Now, we create columns that will help in the creation of the features: ranking difference, points won at the game vs. team faced rank, and goals difference in the game. All features that are not differences should be created for the two teams (away and home)."
   ]
  },
  {
   "cell_type": "code",
   "execution_count": 15,
   "metadata": {
    "execution": {
     "iopub.execute_input": "2022-11-19T16:03:36.846279Z",
     "iopub.status.busy": "2022-11-19T16:03:36.84545Z",
     "iopub.status.idle": "2022-11-19T16:03:36.85671Z",
     "shell.execute_reply": "2022-11-19T16:03:36.855655Z",
     "shell.execute_reply.started": "2022-11-19T16:03:36.846216Z"
    }
   },
   "outputs": [],
   "source": [
    "df[\"rank_dif\"] = df[\"rank_home\"] - df[\"rank_away\"]\n",
    "df[\"sg\"] = df[\"home_score\"] - df[\"away_score\"]\n",
    "df[\"points_home_by_rank\"] = df[\"home_team_points\"]/df[\"rank_away\"]\n",
    "df[\"points_away_by_rank\"] = df[\"away_team_points\"]/df[\"rank_home\"]"
   ]
  },
  {
   "cell_type": "markdown",
   "metadata": {},
   "source": [
    "## In order to create the features, we'll separate the dataset in home team's and away team's dataset, unify them and calculate the past game values. After that, we'll separate again and merge them, retrieving the original dataset. This proccess optimizes the creation of the features."
   ]
  },
  {
   "cell_type": "code",
   "execution_count": 16,
   "metadata": {
    "execution": {
     "iopub.execute_input": "2022-11-19T16:03:36.858807Z",
     "iopub.status.busy": "2022-11-19T16:03:36.858224Z",
     "iopub.status.idle": "2022-11-19T16:03:36.868856Z",
     "shell.execute_reply": "2022-11-19T16:03:36.86808Z",
     "shell.execute_reply.started": "2022-11-19T16:03:36.858774Z"
    }
   },
   "outputs": [],
   "source": [
    "home_team = df[[\"date\", \"home_team\", \"home_score\", \"away_score\", \"rank_home\", \"rank_away\",\"rank_change_home\", \"total_points_home\", \"result\", \"rank_dif\", \"points_home_by_rank\", \"home_team_points\"]]\n",
    "\n",
    "away_team = df[[\"date\", \"away_team\", \"away_score\", \"home_score\", \"rank_away\", \"rank_home\",\"rank_change_away\", \"total_points_away\", \"result\", \"rank_dif\", \"points_away_by_rank\", \"away_team_points\"]]"
   ]
  },
  {
   "cell_type": "code",
   "execution_count": 17,
   "metadata": {
    "execution": {
     "iopub.execute_input": "2022-11-19T16:03:36.870553Z",
     "iopub.status.busy": "2022-11-19T16:03:36.870019Z",
     "iopub.status.idle": "2022-11-19T16:03:36.87801Z",
     "shell.execute_reply": "2022-11-19T16:03:36.876911Z",
     "shell.execute_reply.started": "2022-11-19T16:03:36.87052Z"
    }
   },
   "outputs": [],
   "source": [
    "home_team.columns = [h.replace(\"home_\", \"\").replace(\"_home\", \"\").replace(\"away_\", \"suf_\").replace(\"_away\", \"_suf\") for h in home_team.columns]\n",
    "\n",
    "away_team.columns = [a.replace(\"away_\", \"\").replace(\"_away\", \"\").replace(\"home_\", \"suf_\").replace(\"_home\", \"_suf\") for a in away_team.columns]"
   ]
  },
  {
   "cell_type": "code",
   "execution_count": 18,
   "metadata": {
    "execution": {
     "iopub.execute_input": "2022-11-19T16:03:36.882958Z",
     "iopub.status.busy": "2022-11-19T16:03:36.882625Z",
     "iopub.status.idle": "2022-11-19T16:03:36.89592Z",
     "shell.execute_reply": "2022-11-19T16:03:36.894985Z",
     "shell.execute_reply.started": "2022-11-19T16:03:36.88293Z"
    }
   },
   "outputs": [
    {
     "name": "stderr",
     "output_type": "stream",
     "text": [
      "/var/folders/6h/k3q_yfcj0x14x04lcgwyv1500000gn/T/ipykernel_37290/275322566.py:1: FutureWarning: The frame.append method is deprecated and will be removed from pandas in a future version. Use pandas.concat instead.\n",
      "  team_stats = home_team.append(away_team)#.sort_values(\"date\")\n"
     ]
    }
   ],
   "source": [
    "team_stats = home_team.append(away_team)#.sort_values(\"date\")"
   ]
  },
  {
   "cell_type": "code",
   "execution_count": 19,
   "metadata": {
    "execution": {
     "iopub.execute_input": "2022-11-19T16:03:36.897602Z",
     "iopub.status.busy": "2022-11-19T16:03:36.897282Z",
     "iopub.status.idle": "2022-11-19T16:03:36.908703Z",
     "shell.execute_reply": "2022-11-19T16:03:36.90745Z",
     "shell.execute_reply.started": "2022-11-19T16:03:36.897575Z"
    }
   },
   "outputs": [],
   "source": [
    "#this column will be used to calculate features for simulation\n",
    "team_stats_raw = team_stats.copy()"
   ]
  },
  {
   "cell_type": "markdown",
   "metadata": {},
   "source": [
    "## Now, we have a database ready to create predictive features. They will be:\n",
    "\n",
    "- goals_mean: Mean goals of the team in World Cup Cycle.\n",
    "- goals_mean_l5: Mean goals of the team in last 5 games.\n",
    "- goals_suf_mean: Mean goals suffered of the team in World Cup Cycle.\n",
    "- goals_suf_mean_l5: Mean goals suffered of the team in last 5 games.\n",
    "- rank_mean: Mean FIFA Rank that team faced in World Cup Cycle.\n",
    "- rank_mean_l5: Mean FIFA Rank that team faced in last 5 games.\n",
    "- points_mean: FIFA Points won at the cycle.\n",
    "- points_mean_l5: FIFA Points won in last 5 games.\n",
    "- game_points_mean: Mean game points at the Cycle.\n",
    "- game_points_mean_l5: Mean game points at last 5 games.\n",
    "- game_points_rank_mean: Mean game points by rank faced at the Cycle.\n",
    "- game_points_rank_mean_l5: Mean game points by rank faced at last 5 games."
   ]
  },
  {
   "cell_type": "code",
   "execution_count": 20,
   "metadata": {
    "execution": {
     "iopub.execute_input": "2022-11-19T16:03:36.910603Z",
     "iopub.status.busy": "2022-11-19T16:03:36.910217Z",
     "iopub.status.idle": "2022-11-19T16:03:59.457419Z",
     "shell.execute_reply": "2022-11-19T16:03:59.456223Z",
     "shell.execute_reply.started": "2022-11-19T16:03:36.910571Z"
    }
   },
   "outputs": [],
   "source": [
    "stats_val = []\n",
    "\n",
    "for index, row in team_stats.iterrows():\n",
    "    team = row[\"team\"]\n",
    "    date = row[\"date\"]\n",
    "    past_games = team_stats.loc[(team_stats[\"team\"] == team) & (team_stats[\"date\"] < date)].sort_values(by=['date'], ascending=False)\n",
    "    last5 = past_games.head(5)\n",
    "    \n",
    "    goals = past_games[\"score\"].mean()\n",
    "    goals_l5 = last5[\"score\"].mean()\n",
    "    \n",
    "    goals_suf = past_games[\"suf_score\"].mean()\n",
    "    goals_suf_l5 = last5[\"suf_score\"].mean()\n",
    "    \n",
    "    rank = past_games[\"rank_suf\"].mean()\n",
    "    rank_l5 = last5[\"rank_suf\"].mean()\n",
    "    \n",
    "    if len(last5) > 0:\n",
    "        points = past_games[\"total_points\"].values[0] - past_games[\"total_points\"].values[-1]#qtd de pontos ganhos\n",
    "        points_l5 = last5[\"total_points\"].values[0] - last5[\"total_points\"].values[-1] \n",
    "    else:\n",
    "        points = 0\n",
    "        points_l5 = 0\n",
    "        \n",
    "    gp = past_games[\"team_points\"].mean()\n",
    "    gp_l5 = last5[\"team_points\"].mean()\n",
    "    \n",
    "    gp_rank = past_games[\"points_by_rank\"].mean()\n",
    "    gp_rank_l5 = last5[\"points_by_rank\"].mean()\n",
    "    \n",
    "    stats_val.append([goals, goals_l5, goals_suf, goals_suf_l5, rank, rank_l5, points, points_l5, gp, gp_l5, gp_rank, gp_rank_l5])"
   ]
  },
  {
   "cell_type": "code",
   "execution_count": 21,
   "metadata": {
    "execution": {
     "iopub.execute_input": "2022-11-19T16:03:59.459159Z",
     "iopub.status.busy": "2022-11-19T16:03:59.458813Z",
     "iopub.status.idle": "2022-11-19T16:03:59.485538Z",
     "shell.execute_reply": "2022-11-19T16:03:59.484619Z",
     "shell.execute_reply.started": "2022-11-19T16:03:59.459127Z"
    }
   },
   "outputs": [],
   "source": [
    "stats_cols = [\"goals_mean\", \"goals_mean_l5\", \"goals_suf_mean\", \"goals_suf_mean_l5\", \"rank_mean\", \"rank_mean_l5\", \"points_mean\", \"points_mean_l5\", \"game_points_mean\", \"game_points_mean_l5\", \"game_points_rank_mean\", \"game_points_rank_mean_l5\"]\n",
    "stats_df = pd.DataFrame(stats_val, columns=stats_cols)\n",
    "full_df = pd.concat([team_stats.reset_index(drop=True), stats_df], axis=1, ignore_index=False)"
   ]
  },
  {
   "cell_type": "code",
   "execution_count": 22,
   "metadata": {
    "execution": {
     "iopub.execute_input": "2022-11-19T16:03:59.48751Z",
     "iopub.status.busy": "2022-11-19T16:03:59.487039Z",
     "iopub.status.idle": "2022-11-19T16:03:59.494965Z",
     "shell.execute_reply": "2022-11-19T16:03:59.493676Z",
     "shell.execute_reply.started": "2022-11-19T16:03:59.487464Z"
    }
   },
   "outputs": [],
   "source": [
    "home_team_stats = full_df.iloc[:int(full_df.shape[0]/2),:]\n",
    "away_team_stats = full_df.iloc[int(full_df.shape[0]/2):,:]"
   ]
  },
  {
   "cell_type": "markdown",
   "metadata": {},
   "source": [
    "## Here's the new columns:"
   ]
  },
  {
   "cell_type": "code",
   "execution_count": 23,
   "metadata": {
    "execution": {
     "iopub.execute_input": "2022-11-19T16:03:59.497154Z",
     "iopub.status.busy": "2022-11-19T16:03:59.496778Z",
     "iopub.status.idle": "2022-11-19T16:03:59.514509Z",
     "shell.execute_reply": "2022-11-19T16:03:59.513289Z",
     "shell.execute_reply.started": "2022-11-19T16:03:59.49712Z"
    }
   },
   "outputs": [
    {
     "data": {
      "text/plain": [
       "Index(['goals_mean', 'goals_mean_l5', 'goals_suf_mean', 'goals_suf_mean_l5',\n",
       "       'rank_mean', 'rank_mean_l5', 'points_mean', 'points_mean_l5',\n",
       "       'game_points_mean', 'game_points_mean_l5', 'game_points_rank_mean',\n",
       "       'game_points_rank_mean_l5'],\n",
       "      dtype='object')"
      ]
     },
     "execution_count": 23,
     "metadata": {},
     "output_type": "execute_result"
    }
   ],
   "source": [
    "home_team_stats.columns[-12:]"
   ]
  },
  {
   "cell_type": "code",
   "execution_count": 24,
   "metadata": {
    "execution": {
     "iopub.execute_input": "2022-11-19T16:03:59.51654Z",
     "iopub.status.busy": "2022-11-19T16:03:59.516147Z",
     "iopub.status.idle": "2022-11-19T16:03:59.529746Z",
     "shell.execute_reply": "2022-11-19T16:03:59.528315Z",
     "shell.execute_reply.started": "2022-11-19T16:03:59.516498Z"
    }
   },
   "outputs": [],
   "source": [
    "home_team_stats = home_team_stats[home_team_stats.columns[-12:]]\n",
    "away_team_stats = away_team_stats[away_team_stats.columns[-12:]]\n",
    "home_team_stats.columns = ['home_'+str(col) for col in home_team_stats.columns]\n",
    "away_team_stats.columns = ['away_'+str(col) for col in away_team_stats.columns]\n",
    "match_stats = pd.concat([home_team_stats, away_team_stats.reset_index(drop=True)], axis=1, ignore_index=False)\n",
    "full_df = pd.concat([df, match_stats.reset_index(drop=True)], axis=1, ignore_index=False)"
   ]
  },
  {
   "cell_type": "code",
   "execution_count": 25,
   "metadata": {
    "execution": {
     "iopub.execute_input": "2022-11-19T16:03:59.573265Z",
     "iopub.status.busy": "2022-11-19T16:03:59.572883Z",
     "iopub.status.idle": "2022-11-19T16:03:59.584127Z",
     "shell.execute_reply": "2022-11-19T16:03:59.583325Z",
     "shell.execute_reply.started": "2022-11-19T16:03:59.573211Z"
    }
   },
   "outputs": [
    {
     "data": {
      "text/plain": [
       "Index(['date', 'home_team', 'away_team', 'home_score', 'away_score',\n",
       "       'tournament', 'city', 'country', 'neutral', 'total_points_home',\n",
       "       'previous_points_home', 'rank_home', 'rank_change_home',\n",
       "       'total_points_away', 'previous_points_away', 'rank_away',\n",
       "       'rank_change_away', 'result', 'home_team_points', 'away_team_points',\n",
       "       'rank_dif', 'sg', 'points_home_by_rank', 'points_away_by_rank',\n",
       "       'home_goals_mean', 'home_goals_mean_l5', 'home_goals_suf_mean',\n",
       "       'home_goals_suf_mean_l5', 'home_rank_mean', 'home_rank_mean_l5',\n",
       "       'home_points_mean', 'home_points_mean_l5', 'home_game_points_mean',\n",
       "       'home_game_points_mean_l5', 'home_game_points_rank_mean',\n",
       "       'home_game_points_rank_mean_l5', 'away_goals_mean',\n",
       "       'away_goals_mean_l5', 'away_goals_suf_mean', 'away_goals_suf_mean_l5',\n",
       "       'away_rank_mean', 'away_rank_mean_l5', 'away_points_mean',\n",
       "       'away_points_mean_l5', 'away_game_points_mean',\n",
       "       'away_game_points_mean_l5', 'away_game_points_rank_mean',\n",
       "       'away_game_points_rank_mean_l5'],\n",
       "      dtype='object')"
      ]
     },
     "execution_count": 25,
     "metadata": {},
     "output_type": "execute_result"
    }
   ],
   "source": [
    "full_df.columns"
   ]
  },
  {
   "cell_type": "markdown",
   "metadata": {},
   "source": [
    "## Let's find games that are friendly game, and then get rid of them"
   ]
  },
  {
   "cell_type": "code",
   "execution_count": 26,
   "metadata": {
    "execution": {
     "iopub.execute_input": "2022-11-19T16:03:59.585904Z",
     "iopub.status.busy": "2022-11-19T16:03:59.585423Z",
     "iopub.status.idle": "2022-11-19T16:03:59.597599Z",
     "shell.execute_reply": "2022-11-19T16:03:59.596301Z",
     "shell.execute_reply.started": "2022-11-19T16:03:59.585871Z"
    }
   },
   "outputs": [],
   "source": [
    "def find_friendly(x):\n",
    "    if x == \"Friendly\":\n",
    "        return 1\n",
    "    else: return 0\n",
    "\n",
    "full_df[\"is_friendly\"] = full_df[\"tournament\"].apply(lambda x: find_friendly(x)) "
   ]
  },
  {
   "cell_type": "code",
   "execution_count": 27,
   "metadata": {
    "execution": {
     "iopub.execute_input": "2022-11-19T16:03:59.599521Z",
     "iopub.status.busy": "2022-11-19T16:03:59.599091Z",
     "iopub.status.idle": "2022-11-19T16:03:59.620954Z",
     "shell.execute_reply": "2022-11-19T16:03:59.619692Z",
     "shell.execute_reply.started": "2022-11-19T16:03:59.599486Z"
    }
   },
   "outputs": [],
   "source": [
    "full_df = pd.get_dummies(full_df, columns=[\"is_friendly\"])"
   ]
  },
  {
   "cell_type": "code",
   "execution_count": 28,
   "metadata": {
    "execution": {
     "iopub.execute_input": "2022-11-19T16:03:59.622889Z",
     "iopub.status.busy": "2022-11-19T16:03:59.622532Z",
     "iopub.status.idle": "2022-11-19T16:03:59.6316Z",
     "shell.execute_reply": "2022-11-19T16:03:59.630307Z",
     "shell.execute_reply.started": "2022-11-19T16:03:59.622855Z"
    }
   },
   "outputs": [
    {
     "data": {
      "text/plain": [
       "Index(['date', 'home_team', 'away_team', 'home_score', 'away_score',\n",
       "       'tournament', 'city', 'country', 'neutral', 'total_points_home',\n",
       "       'previous_points_home', 'rank_home', 'rank_change_home',\n",
       "       'total_points_away', 'previous_points_away', 'rank_away',\n",
       "       'rank_change_away', 'result', 'home_team_points', 'away_team_points',\n",
       "       'rank_dif', 'sg', 'points_home_by_rank', 'points_away_by_rank',\n",
       "       'home_goals_mean', 'home_goals_mean_l5', 'home_goals_suf_mean',\n",
       "       'home_goals_suf_mean_l5', 'home_rank_mean', 'home_rank_mean_l5',\n",
       "       'home_points_mean', 'home_points_mean_l5', 'home_game_points_mean',\n",
       "       'home_game_points_mean_l5', 'home_game_points_rank_mean',\n",
       "       'home_game_points_rank_mean_l5', 'away_goals_mean',\n",
       "       'away_goals_mean_l5', 'away_goals_suf_mean', 'away_goals_suf_mean_l5',\n",
       "       'away_rank_mean', 'away_rank_mean_l5', 'away_points_mean',\n",
       "       'away_points_mean_l5', 'away_game_points_mean',\n",
       "       'away_game_points_mean_l5', 'away_game_points_rank_mean',\n",
       "       'away_game_points_rank_mean_l5', 'is_friendly_0', 'is_friendly_1'],\n",
       "      dtype='object')"
      ]
     },
     "execution_count": 28,
     "metadata": {},
     "output_type": "execute_result"
    }
   ],
   "source": [
    "full_df.columns"
   ]
  },
  {
   "cell_type": "code",
   "execution_count": 29,
   "metadata": {
    "execution": {
     "iopub.execute_input": "2022-11-19T16:03:59.63344Z",
     "iopub.status.busy": "2022-11-19T16:03:59.633061Z",
     "iopub.status.idle": "2022-11-19T16:03:59.674294Z",
     "shell.execute_reply": "2022-11-19T16:03:59.672919Z",
     "shell.execute_reply.started": "2022-11-19T16:03:59.633408Z"
    }
   },
   "outputs": [
    {
     "data": {
      "text/html": [
       "<div>\n",
       "<style scoped>\n",
       "    .dataframe tbody tr th:only-of-type {\n",
       "        vertical-align: middle;\n",
       "    }\n",
       "\n",
       "    .dataframe tbody tr th {\n",
       "        vertical-align: top;\n",
       "    }\n",
       "\n",
       "    .dataframe thead th {\n",
       "        text-align: right;\n",
       "    }\n",
       "</style>\n",
       "<table border=\"1\" class=\"dataframe\">\n",
       "  <thead>\n",
       "    <tr style=\"text-align: right;\">\n",
       "      <th></th>\n",
       "      <th>date</th>\n",
       "      <th>home_team</th>\n",
       "      <th>away_team</th>\n",
       "      <th>rank_home</th>\n",
       "      <th>rank_away</th>\n",
       "      <th>home_score</th>\n",
       "      <th>away_score</th>\n",
       "      <th>result</th>\n",
       "      <th>rank_dif</th>\n",
       "      <th>rank_change_home</th>\n",
       "      <th>...</th>\n",
       "      <th>home_game_points_mean</th>\n",
       "      <th>home_game_points_mean_l5</th>\n",
       "      <th>home_game_points_rank_mean</th>\n",
       "      <th>home_game_points_rank_mean_l5</th>\n",
       "      <th>away_game_points_mean</th>\n",
       "      <th>away_game_points_mean_l5</th>\n",
       "      <th>away_game_points_rank_mean</th>\n",
       "      <th>away_game_points_rank_mean_l5</th>\n",
       "      <th>is_friendly_0</th>\n",
       "      <th>is_friendly_1</th>\n",
       "    </tr>\n",
       "  </thead>\n",
       "  <tbody>\n",
       "    <tr>\n",
       "      <th>3330</th>\n",
       "      <td>2022-09-27</td>\n",
       "      <td>Albania</td>\n",
       "      <td>Iceland</td>\n",
       "      <td>66.0</td>\n",
       "      <td>63.0</td>\n",
       "      <td>1.0</td>\n",
       "      <td>1.0</td>\n",
       "      <td>2</td>\n",
       "      <td>3.0</td>\n",
       "      <td>0.0</td>\n",
       "      <td>...</td>\n",
       "      <td>1.365854</td>\n",
       "      <td>0.6</td>\n",
       "      <td>0.019776</td>\n",
       "      <td>0.007318</td>\n",
       "      <td>1.120000</td>\n",
       "      <td>1.8</td>\n",
       "      <td>0.035917</td>\n",
       "      <td>0.021851</td>\n",
       "      <td>1</td>\n",
       "      <td>0</td>\n",
       "    </tr>\n",
       "    <tr>\n",
       "      <th>3331</th>\n",
       "      <td>2022-09-27</td>\n",
       "      <td>Norway</td>\n",
       "      <td>Serbia</td>\n",
       "      <td>36.0</td>\n",
       "      <td>25.0</td>\n",
       "      <td>0.0</td>\n",
       "      <td>2.0</td>\n",
       "      <td>1</td>\n",
       "      <td>11.0</td>\n",
       "      <td>0.0</td>\n",
       "      <td>...</td>\n",
       "      <td>1.833333</td>\n",
       "      <td>2.0</td>\n",
       "      <td>0.041984</td>\n",
       "      <td>0.090235</td>\n",
       "      <td>1.866667</td>\n",
       "      <td>2.0</td>\n",
       "      <td>0.053327</td>\n",
       "      <td>0.073887</td>\n",
       "      <td>1</td>\n",
       "      <td>0</td>\n",
       "    </tr>\n",
       "    <tr>\n",
       "      <th>3332</th>\n",
       "      <td>2022-09-27</td>\n",
       "      <td>Sweden</td>\n",
       "      <td>Slovenia</td>\n",
       "      <td>20.0</td>\n",
       "      <td>65.0</td>\n",
       "      <td>1.0</td>\n",
       "      <td>1.0</td>\n",
       "      <td>2</td>\n",
       "      <td>-45.0</td>\n",
       "      <td>0.0</td>\n",
       "      <td>...</td>\n",
       "      <td>1.607843</td>\n",
       "      <td>0.6</td>\n",
       "      <td>0.048520</td>\n",
       "      <td>0.009231</td>\n",
       "      <td>1.404762</td>\n",
       "      <td>1.0</td>\n",
       "      <td>0.026035</td>\n",
       "      <td>0.029545</td>\n",
       "      <td>1</td>\n",
       "      <td>0</td>\n",
       "    </tr>\n",
       "    <tr>\n",
       "      <th>3333</th>\n",
       "      <td>2022-09-27</td>\n",
       "      <td>Kosovo</td>\n",
       "      <td>Cyprus</td>\n",
       "      <td>106.0</td>\n",
       "      <td>108.0</td>\n",
       "      <td>5.0</td>\n",
       "      <td>1.0</td>\n",
       "      <td>0</td>\n",
       "      <td>-2.0</td>\n",
       "      <td>0.0</td>\n",
       "      <td>...</td>\n",
       "      <td>1.326087</td>\n",
       "      <td>1.2</td>\n",
       "      <td>0.018478</td>\n",
       "      <td>0.016825</td>\n",
       "      <td>0.767442</td>\n",
       "      <td>1.0</td>\n",
       "      <td>0.009687</td>\n",
       "      <td>0.019652</td>\n",
       "      <td>1</td>\n",
       "      <td>0</td>\n",
       "    </tr>\n",
       "    <tr>\n",
       "      <th>3334</th>\n",
       "      <td>2022-09-27</td>\n",
       "      <td>Greece</td>\n",
       "      <td>Northern Ireland</td>\n",
       "      <td>49.0</td>\n",
       "      <td>58.0</td>\n",
       "      <td>3.0</td>\n",
       "      <td>1.0</td>\n",
       "      <td>0</td>\n",
       "      <td>-9.0</td>\n",
       "      <td>1.0</td>\n",
       "      <td>...</td>\n",
       "      <td>1.590909</td>\n",
       "      <td>2.4</td>\n",
       "      <td>0.050090</td>\n",
       "      <td>0.028040</td>\n",
       "      <td>1.139535</td>\n",
       "      <td>1.0</td>\n",
       "      <td>0.022315</td>\n",
       "      <td>0.009470</td>\n",
       "      <td>1</td>\n",
       "      <td>0</td>\n",
       "    </tr>\n",
       "  </tbody>\n",
       "</table>\n",
       "<p>5 rows × 37 columns</p>\n",
       "</div>"
      ],
      "text/plain": [
       "           date home_team         away_team  rank_home  rank_away  home_score  \\\n",
       "3330 2022-09-27   Albania           Iceland       66.0       63.0         1.0   \n",
       "3331 2022-09-27    Norway            Serbia       36.0       25.0         0.0   \n",
       "3332 2022-09-27    Sweden          Slovenia       20.0       65.0         1.0   \n",
       "3333 2022-09-27    Kosovo            Cyprus      106.0      108.0         5.0   \n",
       "3334 2022-09-27    Greece  Northern Ireland       49.0       58.0         3.0   \n",
       "\n",
       "      away_score  result  rank_dif  rank_change_home  ...  \\\n",
       "3330         1.0       2       3.0               0.0  ...   \n",
       "3331         2.0       1      11.0               0.0  ...   \n",
       "3332         1.0       2     -45.0               0.0  ...   \n",
       "3333         1.0       0      -2.0               0.0  ...   \n",
       "3334         1.0       0      -9.0               1.0  ...   \n",
       "\n",
       "      home_game_points_mean  home_game_points_mean_l5  \\\n",
       "3330               1.365854                       0.6   \n",
       "3331               1.833333                       2.0   \n",
       "3332               1.607843                       0.6   \n",
       "3333               1.326087                       1.2   \n",
       "3334               1.590909                       2.4   \n",
       "\n",
       "      home_game_points_rank_mean  home_game_points_rank_mean_l5  \\\n",
       "3330                    0.019776                       0.007318   \n",
       "3331                    0.041984                       0.090235   \n",
       "3332                    0.048520                       0.009231   \n",
       "3333                    0.018478                       0.016825   \n",
       "3334                    0.050090                       0.028040   \n",
       "\n",
       "      away_game_points_mean  away_game_points_mean_l5  \\\n",
       "3330               1.120000                       1.8   \n",
       "3331               1.866667                       2.0   \n",
       "3332               1.404762                       1.0   \n",
       "3333               0.767442                       1.0   \n",
       "3334               1.139535                       1.0   \n",
       "\n",
       "      away_game_points_rank_mean  away_game_points_rank_mean_l5  \\\n",
       "3330                    0.035917                       0.021851   \n",
       "3331                    0.053327                       0.073887   \n",
       "3332                    0.026035                       0.029545   \n",
       "3333                    0.009687                       0.019652   \n",
       "3334                    0.022315                       0.009470   \n",
       "\n",
       "      is_friendly_0  is_friendly_1  \n",
       "3330              1              0  \n",
       "3331              1              0  \n",
       "3332              1              0  \n",
       "3333              1              0  \n",
       "3334              1              0  \n",
       "\n",
       "[5 rows x 37 columns]"
      ]
     },
     "execution_count": 29,
     "metadata": {},
     "output_type": "execute_result"
    }
   ],
   "source": [
    "base_df = full_df[[\"date\", \"home_team\", \"away_team\", \"rank_home\", \"rank_away\",\"home_score\", \"away_score\",\"result\", \"rank_dif\", \"rank_change_home\", \"rank_change_away\", 'home_goals_mean',\n",
    "       'home_goals_mean_l5', 'home_goals_suf_mean', 'home_goals_suf_mean_l5',\n",
    "       'home_rank_mean', 'home_rank_mean_l5', 'home_points_mean',\n",
    "       'home_points_mean_l5', 'away_goals_mean', 'away_goals_mean_l5',\n",
    "       'away_goals_suf_mean', 'away_goals_suf_mean_l5', 'away_rank_mean',\n",
    "       'away_rank_mean_l5', 'away_points_mean', 'away_points_mean_l5','home_game_points_mean', 'home_game_points_mean_l5',\n",
    "       'home_game_points_rank_mean', 'home_game_points_rank_mean_l5','away_game_points_mean',\n",
    "       'away_game_points_mean_l5', 'away_game_points_rank_mean',\n",
    "       'away_game_points_rank_mean_l5',\n",
    "       'is_friendly_0', 'is_friendly_1']]\n",
    "\n",
    "base_df.tail()"
   ]
  },
  {
   "cell_type": "code",
   "execution_count": 30,
   "metadata": {
    "execution": {
     "iopub.execute_input": "2022-11-19T16:03:59.677685Z",
     "iopub.status.busy": "2022-11-19T16:03:59.677195Z",
     "iopub.status.idle": "2022-11-19T16:03:59.691359Z",
     "shell.execute_reply": "2022-11-19T16:03:59.689958Z",
     "shell.execute_reply.started": "2022-11-19T16:03:59.677641Z"
    }
   },
   "outputs": [
    {
     "data": {
      "text/plain": [
       "date                               0\n",
       "home_team                          0\n",
       "away_team                          0\n",
       "rank_home                          0\n",
       "rank_away                          0\n",
       "home_score                         0\n",
       "away_score                         0\n",
       "result                             0\n",
       "rank_dif                           0\n",
       "rank_change_home                   0\n",
       "rank_change_away                   0\n",
       "home_goals_mean                  101\n",
       "home_goals_mean_l5               101\n",
       "home_goals_suf_mean              101\n",
       "home_goals_suf_mean_l5           101\n",
       "home_rank_mean                   101\n",
       "home_rank_mean_l5                101\n",
       "home_points_mean                   0\n",
       "home_points_mean_l5                0\n",
       "away_goals_mean                  100\n",
       "away_goals_mean_l5               100\n",
       "away_goals_suf_mean              100\n",
       "away_goals_suf_mean_l5           100\n",
       "away_rank_mean                   100\n",
       "away_rank_mean_l5                100\n",
       "away_points_mean                   0\n",
       "away_points_mean_l5                0\n",
       "home_game_points_mean            101\n",
       "home_game_points_mean_l5         101\n",
       "home_game_points_rank_mean       101\n",
       "home_game_points_rank_mean_l5    101\n",
       "away_game_points_mean            100\n",
       "away_game_points_mean_l5         100\n",
       "away_game_points_rank_mean       100\n",
       "away_game_points_rank_mean_l5    100\n",
       "is_friendly_0                      0\n",
       "is_friendly_1                      0\n",
       "dtype: int64"
      ]
     },
     "execution_count": 30,
     "metadata": {},
     "output_type": "execute_result"
    }
   ],
   "source": [
    "base_df.isna().sum()"
   ]
  },
  {
   "cell_type": "code",
   "execution_count": 31,
   "metadata": {
    "execution": {
     "iopub.execute_input": "2022-11-19T16:03:59.694066Z",
     "iopub.status.busy": "2022-11-19T16:03:59.693642Z",
     "iopub.status.idle": "2022-11-19T16:03:59.706861Z",
     "shell.execute_reply": "2022-11-19T16:03:59.70552Z",
     "shell.execute_reply.started": "2022-11-19T16:03:59.694024Z"
    }
   },
   "outputs": [],
   "source": [
    "base_df_no_fg = base_df.dropna()"
   ]
  },
  {
   "cell_type": "markdown",
   "metadata": {},
   "source": [
    "# Analyzing\n",
    "\n",
    "#### Now, we need to analyze all features that were created and check if they have predictive power. Also, if they don't have, we need to create some that have, like differences of home and away teams. To analyze the predictive power, we'll assign draw games as a lose of the home team and will create a binary problem. "
   ]
  },
  {
   "cell_type": "code",
   "execution_count": 32,
   "metadata": {
    "execution": {
     "iopub.execute_input": "2022-11-19T16:03:59.709045Z",
     "iopub.status.busy": "2022-11-19T16:03:59.708554Z",
     "iopub.status.idle": "2022-11-19T16:03:59.717061Z",
     "shell.execute_reply": "2022-11-19T16:03:59.715857Z",
     "shell.execute_reply.started": "2022-11-19T16:03:59.709006Z"
    }
   },
   "outputs": [],
   "source": [
    "df = base_df_no_fg"
   ]
  },
  {
   "cell_type": "code",
   "execution_count": 33,
   "metadata": {
    "execution": {
     "iopub.execute_input": "2022-11-19T16:03:59.718699Z",
     "iopub.status.busy": "2022-11-19T16:03:59.71833Z",
     "iopub.status.idle": "2022-11-19T16:03:59.73603Z",
     "shell.execute_reply": "2022-11-19T16:03:59.734667Z",
     "shell.execute_reply.started": "2022-11-19T16:03:59.718665Z"
    }
   },
   "outputs": [
    {
     "name": "stderr",
     "output_type": "stream",
     "text": [
      "/var/folders/6h/k3q_yfcj0x14x04lcgwyv1500000gn/T/ipykernel_37290/1906038641.py:7: SettingWithCopyWarning: \n",
      "A value is trying to be set on a copy of a slice from a DataFrame.\n",
      "Try using .loc[row_indexer,col_indexer] = value instead\n",
      "\n",
      "See the caveats in the documentation: https://pandas.pydata.org/pandas-docs/stable/user_guide/indexing.html#returning-a-view-versus-a-copy\n",
      "  df[\"target\"] = df[\"result\"].apply(lambda x: no_draw(x))\n"
     ]
    }
   ],
   "source": [
    "def no_draw(x):\n",
    "    if x == 2:\n",
    "        return 1\n",
    "    else:\n",
    "        return x\n",
    "    \n",
    "df[\"target\"] = df[\"result\"].apply(lambda x: no_draw(x))"
   ]
  },
  {
   "cell_type": "code",
   "execution_count": 34,
   "metadata": {
    "execution": {
     "iopub.execute_input": "2022-11-19T16:03:59.738414Z",
     "iopub.status.busy": "2022-11-19T16:03:59.738026Z",
     "iopub.status.idle": "2022-11-19T16:03:59.753585Z",
     "shell.execute_reply": "2022-11-19T16:03:59.752349Z",
     "shell.execute_reply.started": "2022-11-19T16:03:59.738379Z"
    }
   },
   "outputs": [],
   "source": [
    "data1 = df[list(df.columns[8:20].values) + [\"target\"]]\n",
    "data2 = df[df.columns[20:]]\n",
    "scaled = (data1[:-1] - data1[:-1].mean()) / data1[:-1].std()\n",
    "scaled[\"target\"] = data1[\"target\"]\n",
    "violin1 = pd.melt(scaled,id_vars=\"target\", var_name=\"features\", value_name=\"value\")\n",
    "\n",
    "scaled = (data2[:-1] - data2[:-1].mean()) / data2[:-1].std()\n",
    "scaled[\"target\"] = data2[\"target\"]\n",
    "violin2 = pd.melt(scaled,id_vars=\"target\", var_name=\"features\", value_name=\"value\")"
   ]
  },
  {
   "cell_type": "code",
   "execution_count": 35,
   "metadata": {
    "execution": {
     "iopub.execute_input": "2022-11-19T16:03:59.789299Z",
     "iopub.status.busy": "2022-11-19T16:03:59.788844Z",
     "iopub.status.idle": "2022-11-19T16:04:00.438317Z",
     "shell.execute_reply": "2022-11-19T16:04:00.4371Z",
     "shell.execute_reply.started": "2022-11-19T16:03:59.789233Z"
    }
   },
   "outputs": [
    {
     "data": {
      "image/png": "[encoded data removed]",
      "text/plain": [
       "<Figure size 648x432 with 1 Axes>"
      ]
     },
     "metadata": {
      "needs_background": "light"
     },
     "output_type": "display_data"
    }
   ],
   "source": [
    "plt.figure(figsize=(9,6))\n",
    "sns.violinplot(x=\"features\", y=\"value\", hue=\"target\", data=violin1,split=True, inner=\"quart\")\n",
    "plt.xticks(rotation=90)\n",
    "plt.show()"
   ]
  },
  {
   "cell_type": "code",
   "execution_count": 36,
   "metadata": {
    "execution": {
     "iopub.execute_input": "2022-11-19T16:04:00.440502Z",
     "iopub.status.busy": "2022-11-19T16:04:00.439989Z",
     "iopub.status.idle": "2022-11-19T16:04:01.28762Z",
     "shell.execute_reply": "2022-11-19T16:04:01.286474Z",
     "shell.execute_reply.started": "2022-11-19T16:04:00.440458Z"
    }
   },
   "outputs": [
    {
     "data": {
      "image/png": "[encoded data removed]",
      "text/plain": [
       "<Figure size 648x432 with 1 Axes>"
      ]
     },
     "metadata": {
      "needs_background": "light"
     },
     "output_type": "display_data"
    }
   ],
   "source": [
    "plt.figure(figsize=(9,6))\n",
    "sns.violinplot(x=\"features\", y=\"value\", hue=\"target\", data=violin2,split=True, inner=\"quart\")\n",
    "plt.xticks(rotation=90)\n",
    "plt.show()"
   ]
  },
  {
   "cell_type": "markdown",
   "metadata": {},
   "source": [
    "## With the plots, we find that rank difference is the only good separator of the data. But, we can create features that get the differences between home and away team and analyze if they are good separating the data."
   ]
  },
  {
   "cell_type": "code",
   "execution_count": 37,
   "metadata": {
    "execution": {
     "iopub.execute_input": "2022-11-19T16:04:01.289828Z",
     "iopub.status.busy": "2022-11-19T16:04:01.289414Z",
     "iopub.status.idle": "2022-11-19T16:04:01.308648Z",
     "shell.execute_reply": "2022-11-19T16:04:01.307286Z",
     "shell.execute_reply.started": "2022-11-19T16:04:01.289791Z"
    }
   },
   "outputs": [],
   "source": [
    "dif = df.copy()\n",
    "dif.loc[:, \"goals_dif\"] = dif[\"home_goals_mean\"] - dif[\"away_goals_mean\"]\n",
    "dif.loc[:, \"goals_dif_l5\"] = dif[\"home_goals_mean_l5\"] - dif[\"away_goals_mean_l5\"]\n",
    "dif.loc[:, \"goals_suf_dif\"] = dif[\"home_goals_suf_mean\"] - dif[\"away_goals_suf_mean\"]\n",
    "dif.loc[:, \"goals_suf_dif_l5\"] = dif[\"home_goals_suf_mean_l5\"] - dif[\"away_goals_suf_mean_l5\"]\n",
    "dif.loc[:, \"goals_made_suf_dif\"] = dif[\"home_goals_mean\"] - dif[\"away_goals_suf_mean\"]\n",
    "dif.loc[:, \"goals_made_suf_dif_l5\"] = dif[\"home_goals_mean_l5\"] - dif[\"away_goals_suf_mean_l5\"]\n",
    "dif.loc[:, \"goals_suf_made_dif\"] = dif[\"home_goals_suf_mean\"] - dif[\"away_goals_mean\"]\n",
    "dif.loc[:, \"goals_suf_made_dif_l5\"] = dif[\"home_goals_suf_mean_l5\"] - dif[\"away_goals_mean_l5\"]"
   ]
  },
  {
   "cell_type": "code",
   "execution_count": 38,
   "metadata": {
    "execution": {
     "iopub.execute_input": "2022-11-19T16:04:01.310403Z",
     "iopub.status.busy": "2022-11-19T16:04:01.310044Z",
     "iopub.status.idle": "2022-11-19T16:04:02.138901Z",
     "shell.execute_reply": "2022-11-19T16:04:02.137443Z",
     "shell.execute_reply.started": "2022-11-19T16:04:01.31037Z"
    }
   },
   "outputs": [
    {
     "data": {
      "image/png": "[encoded data removed]",
      "text/plain": [
       "<Figure size 576x576 with 1 Axes>"
      ]
     },
     "metadata": {
      "needs_background": "light"
     },
     "output_type": "display_data"
    }
   ],
   "source": [
    "data_difs = dif.iloc[:, -8:]\n",
    "scaled = (data_difs - data_difs.mean()) / data_difs.std()\n",
    "scaled[\"target\"] = data2[\"target\"]\n",
    "violin = pd.melt(scaled,id_vars=\"target\", var_name=\"features\", value_name=\"value\")\n",
    "\n",
    "plt.figure(figsize=(8,8))\n",
    "sns.violinplot(x=\"features\", y=\"value\", hue=\"target\", data=violin,split=True, inner=\"quart\")\n",
    "plt.xticks(rotation=90)\n",
    "plt.show()"
   ]
  },
  {
   "cell_type": "markdown",
   "metadata": {},
   "source": [
    "## With that plot, we see that goal differences are good separator, and goals suffered difference too. Differences between goals made and goals suffered of the teams are not very good separators. Now, we have 5 features:\n",
    "\n",
    "- rank_dif\n",
    "- goals_dif\n",
    "- goals_dif_l5\n",
    "- goals_suf_dif\n",
    "- goals_suf_dif_l5\n",
    "\n",
    "### We can also create other features, like differences of points made, differences of points made by rank faced and differences of rank faced."
   ]
  },
  {
   "cell_type": "code",
   "execution_count": 39,
   "metadata": {
    "execution": {
     "iopub.execute_input": "2022-11-19T16:04:02.140815Z",
     "iopub.status.busy": "2022-11-19T16:04:02.140465Z",
     "iopub.status.idle": "2022-11-19T16:04:02.152358Z",
     "shell.execute_reply": "2022-11-19T16:04:02.151089Z",
     "shell.execute_reply.started": "2022-11-19T16:04:02.140783Z"
    }
   },
   "outputs": [],
   "source": [
    "dif.loc[:, \"dif_points\"] = dif[\"home_game_points_mean\"] - dif[\"away_game_points_mean\"]\n",
    "dif.loc[:, \"dif_points_l5\"] = dif[\"home_game_points_mean_l5\"] - dif[\"away_game_points_mean_l5\"]\n",
    "dif.loc[:, \"dif_points_rank\"] = dif[\"home_game_points_rank_mean\"] - dif[\"away_game_points_rank_mean\"]\n",
    "dif.loc[:, \"dif_points_rank_l5\"] = dif[\"home_game_points_rank_mean_l5\"] - dif[\"away_game_points_rank_mean_l5\"]"
   ]
  },
  {
   "cell_type": "code",
   "execution_count": 40,
   "metadata": {
    "execution": {
     "iopub.execute_input": "2022-11-19T16:04:02.155511Z",
     "iopub.status.busy": "2022-11-19T16:04:02.154034Z",
     "iopub.status.idle": "2022-11-19T16:04:02.171935Z",
     "shell.execute_reply": "2022-11-19T16:04:02.170898Z",
     "shell.execute_reply.started": "2022-11-19T16:04:02.155475Z"
    }
   },
   "outputs": [],
   "source": [
    "dif.loc[:, \"dif_rank_agst\"] = dif[\"home_rank_mean\"] - dif[\"away_rank_mean\"]\n",
    "dif.loc[:, \"dif_rank_agst_l5\"] = dif[\"home_rank_mean_l5\"] - dif[\"away_rank_mean_l5\"]"
   ]
  },
  {
   "cell_type": "code",
   "execution_count": 41,
   "metadata": {
    "execution": {
     "iopub.execute_input": "2022-11-19T16:04:02.181575Z",
     "iopub.status.busy": "2022-11-19T16:04:02.181142Z",
     "iopub.status.idle": "2022-11-19T16:04:02.194506Z",
     "shell.execute_reply": "2022-11-19T16:04:02.193454Z",
     "shell.execute_reply.started": "2022-11-19T16:04:02.181537Z"
    }
   },
   "outputs": [],
   "source": [
    "dif.loc[:, \"goals_per_ranking_dif\"] = (dif[\"home_goals_mean\"] / dif[\"home_rank_mean\"]) - (dif[\"away_goals_mean\"] / dif[\"away_rank_mean\"])\n",
    "dif.loc[:, \"goals_per_ranking_suf_dif\"] = (dif[\"home_goals_suf_mean\"] / dif[\"home_rank_mean\"]) - (dif[\"away_goals_suf_mean\"] / dif[\"away_rank_mean\"])\n",
    "dif.loc[:, \"goals_per_ranking_dif_l5\"] = (dif[\"home_goals_mean_l5\"] / dif[\"home_rank_mean\"]) - (dif[\"away_goals_mean_l5\"] / dif[\"away_rank_mean\"])\n",
    "dif.loc[:, \"goals_per_ranking_suf_dif_l5\"] = (dif[\"home_goals_suf_mean_l5\"] / dif[\"home_rank_mean\"]) - (dif[\"away_goals_suf_mean_l5\"] / dif[\"away_rank_mean\"])"
   ]
  },
  {
   "cell_type": "code",
   "execution_count": 42,
   "metadata": {
    "execution": {
     "iopub.execute_input": "2022-11-19T16:04:02.196486Z",
     "iopub.status.busy": "2022-11-19T16:04:02.195702Z",
     "iopub.status.idle": "2022-11-19T16:04:02.802203Z",
     "shell.execute_reply": "2022-11-19T16:04:02.801038Z",
     "shell.execute_reply.started": "2022-11-19T16:04:02.19645Z"
    }
   },
   "outputs": [
    {
     "data": {
      "image/png": "[encoded data removed]",
      "text/plain": [
       "<Figure size 648x432 with 1 Axes>"
      ]
     },
     "metadata": {
      "needs_background": "light"
     },
     "output_type": "display_data"
    }
   ],
   "source": [
    "data_difs = dif.iloc[:, -10:]\n",
    "scaled = (data_difs - data_difs.mean()) / data_difs.std()\n",
    "scaled[\"target\"] = data2[\"target\"]\n",
    "violin = pd.melt(scaled,id_vars=\"target\", var_name=\"features\", value_name=\"value\")\n",
    "\n",
    "plt.figure(figsize=(9,6))\n",
    "sns.violinplot(x=\"features\", y=\"value\", hue=\"target\", data=violin,split=True, inner=\"quart\")\n",
    "plt.xticks(rotation=90)\n",
    "plt.show()"
   ]
  },
  {
   "cell_type": "markdown",
   "metadata": {},
   "source": [
    "## Due to the low values, the violin plot was not a good choice to analyze if features are really separating the data in this case. We will see then the boxplot:"
   ]
  },
  {
   "cell_type": "code",
   "execution_count": 43,
   "metadata": {
    "execution": {
     "iopub.execute_input": "2022-11-19T16:04:02.804614Z",
     "iopub.status.busy": "2022-11-19T16:04:02.803708Z",
     "iopub.status.idle": "2022-11-19T16:04:03.419825Z",
     "shell.execute_reply": "2022-11-19T16:04:03.418709Z",
     "shell.execute_reply.started": "2022-11-19T16:04:02.804576Z"
    }
   },
   "outputs": [
    {
     "data": {
      "image/png": "[encoded data removed]",
      "text/plain": [
       "<Figure size 1080x720 with 1 Axes>"
      ]
     },
     "metadata": {
      "needs_background": "light"
     },
     "output_type": "display_data"
    }
   ],
   "source": [
    "plt.figure(figsize=(15,10))\n",
    "sns.boxplot(x=\"features\", y=\"value\", hue=\"target\", data=violin)\n",
    "plt.xticks(rotation=90)\n",
    "plt.show()"
   ]
  },
  {
   "cell_type": "markdown",
   "metadata": {},
   "source": [
    "### Difference of points (full and last 5 games), difference of points by ranking faced (full and last 5 games) and difference of rank faced (full and last 5 games) are good features. Also, some of the generated features have very similar distributions which will be analyzed using scatterplots."
   ]
  },
  {
   "cell_type": "code",
   "execution_count": 44,
   "metadata": {
    "execution": {
     "iopub.execute_input": "2022-11-19T16:04:03.421921Z",
     "iopub.status.busy": "2022-11-19T16:04:03.421537Z",
     "iopub.status.idle": "2022-11-19T16:04:05.800371Z",
     "shell.execute_reply": "2022-11-19T16:04:05.799125Z",
     "shell.execute_reply.started": "2022-11-19T16:04:03.421889Z"
    }
   },
   "outputs": [
    {
     "data": {
      "image/png": "[encoded data removed]",
      "text/plain": [
       "<Figure size 432x432 with 3 Axes>"
      ]
     },
     "metadata": {
      "needs_background": "light"
     },
     "output_type": "display_data"
    }
   ],
   "source": [
    "sns.jointplot(data = data_difs, x = 'goals_per_ranking_dif', y = 'goals_per_ranking_dif_l5', kind=\"reg\")\n",
    "plt.show()"
   ]
  },
  {
   "cell_type": "markdown",
   "metadata": {},
   "source": [
    "### Goals difference by ranking faced and its last 5 games version has very similar distributions. So, we will use only the full version (goals_per_ranking_dif)."
   ]
  },
  {
   "cell_type": "code",
   "execution_count": 45,
   "metadata": {
    "execution": {
     "iopub.execute_input": "2022-11-19T16:04:05.80236Z",
     "iopub.status.busy": "2022-11-19T16:04:05.801975Z",
     "iopub.status.idle": "2022-11-19T16:04:06.869617Z",
     "shell.execute_reply": "2022-11-19T16:04:06.86833Z",
     "shell.execute_reply.started": "2022-11-19T16:04:05.802326Z"
    }
   },
   "outputs": [
    {
     "data": {
      "image/png": "[encoded data removed]",
      "text/plain": [
       "<Figure size 432x432 with 3 Axes>"
      ]
     },
     "metadata": {
      "needs_background": "light"
     },
     "output_type": "display_data"
    }
   ],
   "source": [
    "sns.jointplot(data = data_difs, x = 'dif_rank_agst', y = 'dif_rank_agst_l5', kind=\"reg\")\n",
    "plt.show()"
   ]
  },
  {
   "cell_type": "code",
   "execution_count": 46,
   "metadata": {
    "execution": {
     "iopub.execute_input": "2022-11-19T16:04:06.871667Z",
     "iopub.status.busy": "2022-11-19T16:04:06.871322Z",
     "iopub.status.idle": "2022-11-19T16:04:07.722616Z",
     "shell.execute_reply": "2022-11-19T16:04:07.721179Z",
     "shell.execute_reply.started": "2022-11-19T16:04:06.871636Z"
    }
   },
   "outputs": [
    {
     "data": {
      "image/png": "[encoded data removed]",
      "text/plain": [
       "<Figure size 432x432 with 3 Axes>"
      ]
     },
     "metadata": {
      "needs_background": "light"
     },
     "output_type": "display_data"
    }
   ],
   "source": [
    "sns.jointplot(data = data_difs, x = 'dif_points', y = 'dif_points_l5', kind=\"reg\")\n",
    "plt.show()"
   ]
  },
  {
   "cell_type": "code",
   "execution_count": 47,
   "metadata": {
    "execution": {
     "iopub.execute_input": "2022-11-19T16:04:07.725602Z",
     "iopub.status.busy": "2022-11-19T16:04:07.724887Z",
     "iopub.status.idle": "2022-11-19T16:04:10.453428Z",
     "shell.execute_reply": "2022-11-19T16:04:10.452318Z",
     "shell.execute_reply.started": "2022-11-19T16:04:07.72556Z"
    }
   },
   "outputs": [
    {
     "data": {
      "image/png": "[encoded data removed]",
      "text/plain": [
       "<Figure size 432x432 with 3 Axes>"
      ]
     },
     "metadata": {
      "needs_background": "light"
     },
     "output_type": "display_data"
    }
   ],
   "source": [
    "sns.jointplot(data = data_difs, x = 'dif_points_rank', y = 'dif_points_rank_l5', kind=\"reg\")\n",
    "plt.show()"
   ]
  },
  {
   "cell_type": "markdown",
   "metadata": {},
   "source": [
    "## For the differences of rank faced, game points by rank faced and mean game points by rank faced, the two versions (full and 5 games) are not so similar. So, we will use both.\n",
    "\n",
    "Based on that, final features are:\n",
    "\n",
    "- rank_dif\n",
    "- goals_dif\n",
    "- goals_dif_l5\n",
    "- goals_suf_dif\n",
    "- goals_suf_dif_l5\n",
    "- dif_rank_agst\n",
    "- dif_rank_agst_l5\n",
    "- goals_per_ranking_dif\n",
    "- dif_points_rank\n",
    "- dif_points_rank_l5\n",
    "- is_friendly"
   ]
  },
  {
   "cell_type": "code",
   "execution_count": 48,
   "metadata": {
    "execution": {
     "iopub.execute_input": "2022-11-19T16:04:10.455687Z",
     "iopub.status.busy": "2022-11-19T16:04:10.455185Z",
     "iopub.status.idle": "2022-11-19T16:04:10.468041Z",
     "shell.execute_reply": "2022-11-19T16:04:10.466758Z",
     "shell.execute_reply.started": "2022-11-19T16:04:10.455642Z"
    }
   },
   "outputs": [],
   "source": [
    "def create_db(df):\n",
    "    columns = [\"home_team\", \"away_team\", \"target\", \"rank_dif\", \"home_goals_mean\", \"home_rank_mean\", \"away_goals_mean\", \"away_rank_mean\", \"home_rank_mean_l5\", \"away_rank_mean_l5\", \"home_goals_suf_mean\", \"away_goals_suf_mean\", \"home_goals_mean_l5\", \"away_goals_mean_l5\", \"home_goals_suf_mean_l5\", \"away_goals_suf_mean_l5\", \"home_game_points_rank_mean\", \"home_game_points_rank_mean_l5\", \"away_game_points_rank_mean\", \"away_game_points_rank_mean_l5\",\"is_friendly_0\", \"is_friendly_1\"]\n",
    "    \n",
    "    base = df.loc[:, columns]\n",
    "    base.loc[:, \"goals_dif\"] = base[\"home_goals_mean\"] - base[\"away_goals_mean\"]\n",
    "    base.loc[:, \"goals_dif_l5\"] = base[\"home_goals_mean_l5\"] - base[\"away_goals_mean_l5\"]\n",
    "    base.loc[:, \"goals_suf_dif\"] = base[\"home_goals_suf_mean\"] - base[\"away_goals_suf_mean\"]\n",
    "    base.loc[:, \"goals_suf_dif_l5\"] = base[\"home_goals_suf_mean_l5\"] - base[\"away_goals_suf_mean_l5\"]\n",
    "    base.loc[:, \"goals_per_ranking_dif\"] = (base[\"home_goals_mean\"] / base[\"home_rank_mean\"]) - (base[\"away_goals_mean\"] / base[\"away_rank_mean\"])\n",
    "    base.loc[:, \"dif_rank_agst\"] = base[\"home_rank_mean\"] - base[\"away_rank_mean\"]\n",
    "    base.loc[:, \"dif_rank_agst_l5\"] = base[\"home_rank_mean_l5\"] - base[\"away_rank_mean_l5\"]\n",
    "    base.loc[:, \"dif_points_rank\"] = base[\"home_game_points_rank_mean\"] - base[\"away_game_points_rank_mean\"]\n",
    "    base.loc[:, \"dif_points_rank_l5\"] = base[\"home_game_points_rank_mean_l5\"] - base[\"away_game_points_rank_mean_l5\"]\n",
    "    \n",
    "    model_df = base[[\"home_team\", \"away_team\", \"target\", \"rank_dif\", \"goals_dif\", \"goals_dif_l5\", \"goals_suf_dif\", \"goals_suf_dif_l5\", \"goals_per_ranking_dif\", \"dif_rank_agst\", \"dif_rank_agst_l5\", \"dif_points_rank\", \"dif_points_rank_l5\", \"is_friendly_0\", \"is_friendly_1\"]]\n",
    "    return model_df"
   ]
  },
  {
   "cell_type": "code",
   "execution_count": 49,
   "metadata": {
    "execution": {
     "iopub.execute_input": "2022-11-19T16:04:10.469955Z",
     "iopub.status.busy": "2022-11-19T16:04:10.469566Z",
     "iopub.status.idle": "2022-11-19T16:04:10.49316Z",
     "shell.execute_reply": "2022-11-19T16:04:10.491802Z",
     "shell.execute_reply.started": "2022-11-19T16:04:10.469906Z"
    }
   },
   "outputs": [
    {
     "data": {
      "text/html": [
       "<div>\n",
       "<style scoped>\n",
       "    .dataframe tbody tr th:only-of-type {\n",
       "        vertical-align: middle;\n",
       "    }\n",
       "\n",
       "    .dataframe tbody tr th {\n",
       "        vertical-align: top;\n",
       "    }\n",
       "\n",
       "    .dataframe thead th {\n",
       "        text-align: right;\n",
       "    }\n",
       "</style>\n",
       "<table border=\"1\" class=\"dataframe\">\n",
       "  <thead>\n",
       "    <tr style=\"text-align: right;\">\n",
       "      <th></th>\n",
       "      <th>home_team</th>\n",
       "      <th>away_team</th>\n",
       "      <th>target</th>\n",
       "      <th>rank_dif</th>\n",
       "      <th>goals_dif</th>\n",
       "      <th>goals_dif_l5</th>\n",
       "      <th>goals_suf_dif</th>\n",
       "      <th>goals_suf_dif_l5</th>\n",
       "      <th>goals_per_ranking_dif</th>\n",
       "      <th>dif_rank_agst</th>\n",
       "      <th>dif_rank_agst_l5</th>\n",
       "      <th>dif_points_rank</th>\n",
       "      <th>dif_points_rank_l5</th>\n",
       "      <th>is_friendly_0</th>\n",
       "      <th>is_friendly_1</th>\n",
       "    </tr>\n",
       "  </thead>\n",
       "  <tbody>\n",
       "    <tr>\n",
       "      <th>4</th>\n",
       "      <td>Barbados</td>\n",
       "      <td>Cuba</td>\n",
       "      <td>1</td>\n",
       "      <td>-21.0</td>\n",
       "      <td>2.000000</td>\n",
       "      <td>2.0</td>\n",
       "      <td>1.000000</td>\n",
       "      <td>1.0</td>\n",
       "      <td>0.037037</td>\n",
       "      <td>-92.000000</td>\n",
       "      <td>-92.0</td>\n",
       "      <td>0.018519</td>\n",
       "      <td>0.018519</td>\n",
       "      <td>0</td>\n",
       "      <td>1</td>\n",
       "    </tr>\n",
       "    <tr>\n",
       "      <th>6</th>\n",
       "      <td>Barbados</td>\n",
       "      <td>Cuba</td>\n",
       "      <td>1</td>\n",
       "      <td>-21.0</td>\n",
       "      <td>1.000000</td>\n",
       "      <td>1.0</td>\n",
       "      <td>0.500000</td>\n",
       "      <td>0.5</td>\n",
       "      <td>0.008511</td>\n",
       "      <td>-35.500000</td>\n",
       "      <td>-35.5</td>\n",
       "      <td>0.008897</td>\n",
       "      <td>0.008897</td>\n",
       "      <td>0</td>\n",
       "      <td>1</td>\n",
       "    </tr>\n",
       "    <tr>\n",
       "      <th>31</th>\n",
       "      <td>Mongolia</td>\n",
       "      <td>Guam</td>\n",
       "      <td>1</td>\n",
       "      <td>-4.0</td>\n",
       "      <td>4.000000</td>\n",
       "      <td>4.0</td>\n",
       "      <td>-1.000000</td>\n",
       "      <td>-1.0</td>\n",
       "      <td>0.021622</td>\n",
       "      <td>0.000000</td>\n",
       "      <td>0.0</td>\n",
       "      <td>0.016216</td>\n",
       "      <td>0.016216</td>\n",
       "      <td>1</td>\n",
       "      <td>0</td>\n",
       "    </tr>\n",
       "    <tr>\n",
       "      <th>32</th>\n",
       "      <td>Nepal</td>\n",
       "      <td>Bhutan</td>\n",
       "      <td>0</td>\n",
       "      <td>-22.0</td>\n",
       "      <td>1.000000</td>\n",
       "      <td>1.0</td>\n",
       "      <td>0.000000</td>\n",
       "      <td>0.0</td>\n",
       "      <td>0.004975</td>\n",
       "      <td>7.000000</td>\n",
       "      <td>7.0</td>\n",
       "      <td>0.000000</td>\n",
       "      <td>0.000000</td>\n",
       "      <td>1</td>\n",
       "      <td>0</td>\n",
       "    </tr>\n",
       "    <tr>\n",
       "      <th>33</th>\n",
       "      <td>Bangladesh</td>\n",
       "      <td>Pakistan</td>\n",
       "      <td>0</td>\n",
       "      <td>-7.0</td>\n",
       "      <td>-1.000000</td>\n",
       "      <td>-1.0</td>\n",
       "      <td>-0.500000</td>\n",
       "      <td>-0.5</td>\n",
       "      <td>-0.007200</td>\n",
       "      <td>30.500000</td>\n",
       "      <td>30.5</td>\n",
       "      <td>-0.010437</td>\n",
       "      <td>-0.010437</td>\n",
       "      <td>1</td>\n",
       "      <td>0</td>\n",
       "    </tr>\n",
       "    <tr>\n",
       "      <th>...</th>\n",
       "      <td>...</td>\n",
       "      <td>...</td>\n",
       "      <td>...</td>\n",
       "      <td>...</td>\n",
       "      <td>...</td>\n",
       "      <td>...</td>\n",
       "      <td>...</td>\n",
       "      <td>...</td>\n",
       "      <td>...</td>\n",
       "      <td>...</td>\n",
       "      <td>...</td>\n",
       "      <td>...</td>\n",
       "      <td>...</td>\n",
       "      <td>...</td>\n",
       "      <td>...</td>\n",
       "    </tr>\n",
       "    <tr>\n",
       "      <th>3330</th>\n",
       "      <td>Albania</td>\n",
       "      <td>Iceland</td>\n",
       "      <td>1</td>\n",
       "      <td>3.0</td>\n",
       "      <td>-0.002439</td>\n",
       "      <td>-0.8</td>\n",
       "      <td>-0.584878</td>\n",
       "      <td>0.0</td>\n",
       "      <td>-0.005083</td>\n",
       "      <td>21.632683</td>\n",
       "      <td>-14.8</td>\n",
       "      <td>-0.016141</td>\n",
       "      <td>-0.014533</td>\n",
       "      <td>1</td>\n",
       "      <td>0</td>\n",
       "    </tr>\n",
       "    <tr>\n",
       "      <th>3331</th>\n",
       "      <td>Norway</td>\n",
       "      <td>Serbia</td>\n",
       "      <td>1</td>\n",
       "      <td>11.0</td>\n",
       "      <td>-0.038095</td>\n",
       "      <td>-0.8</td>\n",
       "      <td>-0.230159</td>\n",
       "      <td>0.0</td>\n",
       "      <td>-0.005282</td>\n",
       "      <td>9.014286</td>\n",
       "      <td>-3.4</td>\n",
       "      <td>-0.011343</td>\n",
       "      <td>0.016348</td>\n",
       "      <td>1</td>\n",
       "      <td>0</td>\n",
       "    </tr>\n",
       "    <tr>\n",
       "      <th>3332</th>\n",
       "      <td>Sweden</td>\n",
       "      <td>Slovenia</td>\n",
       "      <td>1</td>\n",
       "      <td>-45.0</td>\n",
       "      <td>0.030812</td>\n",
       "      <td>0.2</td>\n",
       "      <td>0.137255</td>\n",
       "      <td>0.2</td>\n",
       "      <td>0.009459</td>\n",
       "      <td>-25.102241</td>\n",
       "      <td>10.2</td>\n",
       "      <td>0.022485</td>\n",
       "      <td>-0.020314</td>\n",
       "      <td>1</td>\n",
       "      <td>0</td>\n",
       "    </tr>\n",
       "    <tr>\n",
       "      <th>3333</th>\n",
       "      <td>Kosovo</td>\n",
       "      <td>Cyprus</td>\n",
       "      <td>0</td>\n",
       "      <td>-2.0</td>\n",
       "      <td>0.667341</td>\n",
       "      <td>0.6</td>\n",
       "      <td>-0.463094</td>\n",
       "      <td>0.0</td>\n",
       "      <td>0.007625</td>\n",
       "      <td>7.037917</td>\n",
       "      <td>1.6</td>\n",
       "      <td>0.008791</td>\n",
       "      <td>-0.002827</td>\n",
       "      <td>1</td>\n",
       "      <td>0</td>\n",
       "    </tr>\n",
       "    <tr>\n",
       "      <th>3334</th>\n",
       "      <td>Greece</td>\n",
       "      <td>Northern Ireland</td>\n",
       "      <td>0</td>\n",
       "      <td>-9.0</td>\n",
       "      <td>0.067653</td>\n",
       "      <td>0.2</td>\n",
       "      <td>-0.369979</td>\n",
       "      <td>-1.2</td>\n",
       "      <td>-0.002915</td>\n",
       "      <td>16.024841</td>\n",
       "      <td>0.6</td>\n",
       "      <td>0.027775</td>\n",
       "      <td>0.018570</td>\n",
       "      <td>1</td>\n",
       "      <td>0</td>\n",
       "    </tr>\n",
       "  </tbody>\n",
       "</table>\n",
       "<p>3200 rows × 15 columns</p>\n",
       "</div>"
      ],
      "text/plain": [
       "       home_team         away_team  target  rank_dif  goals_dif  goals_dif_l5  \\\n",
       "4       Barbados              Cuba       1     -21.0   2.000000           2.0   \n",
       "6       Barbados              Cuba       1     -21.0   1.000000           1.0   \n",
       "31      Mongolia              Guam       1      -4.0   4.000000           4.0   \n",
       "32         Nepal            Bhutan       0     -22.0   1.000000           1.0   \n",
       "33    Bangladesh          Pakistan       0      -7.0  -1.000000          -1.0   \n",
       "...          ...               ...     ...       ...        ...           ...   \n",
       "3330     Albania           Iceland       1       3.0  -0.002439          -0.8   \n",
       "3331      Norway            Serbia       1      11.0  -0.038095          -0.8   \n",
       "3332      Sweden          Slovenia       1     -45.0   0.030812           0.2   \n",
       "3333      Kosovo            Cyprus       0      -2.0   0.667341           0.6   \n",
       "3334      Greece  Northern Ireland       0      -9.0   0.067653           0.2   \n",
       "\n",
       "      goals_suf_dif  goals_suf_dif_l5  goals_per_ranking_dif  dif_rank_agst  \\\n",
       "4          1.000000               1.0               0.037037     -92.000000   \n",
       "6          0.500000               0.5               0.008511     -35.500000   \n",
       "31        -1.000000              -1.0               0.021622       0.000000   \n",
       "32         0.000000               0.0               0.004975       7.000000   \n",
       "33        -0.500000              -0.5              -0.007200      30.500000   \n",
       "...             ...               ...                    ...            ...   \n",
       "3330      -0.584878               0.0              -0.005083      21.632683   \n",
       "3331      -0.230159               0.0              -0.005282       9.014286   \n",
       "3332       0.137255               0.2               0.009459     -25.102241   \n",
       "3333      -0.463094               0.0               0.007625       7.037917   \n",
       "3334      -0.369979              -1.2              -0.002915      16.024841   \n",
       "\n",
       "      dif_rank_agst_l5  dif_points_rank  dif_points_rank_l5  is_friendly_0  \\\n",
       "4                -92.0         0.018519            0.018519              0   \n",
       "6                -35.5         0.008897            0.008897              0   \n",
       "31                 0.0         0.016216            0.016216              1   \n",
       "32                 7.0         0.000000            0.000000              1   \n",
       "33                30.5        -0.010437           -0.010437              1   \n",
       "...                ...              ...                 ...            ...   \n",
       "3330             -14.8        -0.016141           -0.014533              1   \n",
       "3331              -3.4        -0.011343            0.016348              1   \n",
       "3332              10.2         0.022485           -0.020314              1   \n",
       "3333               1.6         0.008791           -0.002827              1   \n",
       "3334               0.6         0.027775            0.018570              1   \n",
       "\n",
       "      is_friendly_1  \n",
       "4                 1  \n",
       "6                 1  \n",
       "31                0  \n",
       "32                0  \n",
       "33                0  \n",
       "...             ...  \n",
       "3330              0  \n",
       "3331              0  \n",
       "3332              0  \n",
       "3333              0  \n",
       "3334              0  \n",
       "\n",
       "[3200 rows x 15 columns]"
      ]
     },
     "execution_count": 49,
     "metadata": {},
     "output_type": "execute_result"
    }
   ],
   "source": [
    "model_db = create_db(df)\n",
    "model_db"
   ]
  },
  {
   "cell_type": "markdown",
   "metadata": {},
   "source": [
    "# Modeling\n",
    "\n",
    "## Two models will be tested: Random Forest and Gradient Boosting. The selected will be the one with best recall."
   ]
  },
  {
   "cell_type": "code",
   "execution_count": 50,
   "metadata": {
    "execution": {
     "iopub.execute_input": "2022-11-19T16:04:10.5275Z",
     "iopub.status.busy": "2022-11-19T16:04:10.527167Z",
     "iopub.status.idle": "2022-11-19T16:04:10.540069Z",
     "shell.execute_reply": "2022-11-19T16:04:10.538758Z",
     "shell.execute_reply.started": "2022-11-19T16:04:10.527471Z"
    }
   },
   "outputs": [],
   "source": [
    "X = model_db.iloc[:, 3:]\n",
    "y = model_db[[\"target\"]]"
   ]
  },
  {
   "cell_type": "code",
   "execution_count": 51,
   "metadata": {
    "execution": {
     "iopub.execute_input": "2022-11-19T16:04:10.541963Z",
     "iopub.status.busy": "2022-11-19T16:04:10.541485Z",
     "iopub.status.idle": "2022-11-19T16:04:10.555071Z",
     "shell.execute_reply": "2022-11-19T16:04:10.553935Z",
     "shell.execute_reply.started": "2022-11-19T16:04:10.541918Z"
    }
   },
   "outputs": [
    {
     "data": {
      "text/plain": [
       "GridSearchCV(cv=3, estimator=GradientBoostingClassifier(random_state=5),\n",
       "             n_jobs=-1,\n",
       "             param_grid={'learning_rate': [0.01, 0.1, 0.5],\n",
       "                         'max_depth': [3, 5, 10], 'max_features': ['sqrt'],\n",
       "                         'min_samples_leaf': [3, 5],\n",
       "                         'min_samples_split': [5, 10],\n",
       "                         'n_estimators': [100, 200]},\n",
       "             verbose=False)"
      ]
     },
     "execution_count": 51,
     "metadata": {},
     "output_type": "execute_result"
    }
   ],
   "source": [
    "from sklearn.ensemble import RandomForestClassifier, GradientBoostingClassifier\n",
    "from sklearn.model_selection import train_test_split, GridSearchCV\n",
    "\n",
    "X_train, X_test, y_train, y_test = train_test_split(X, y, test_size= 0.2, random_state=1)\n",
    "\n",
    "gb = GradientBoostingClassifier(random_state=5)\n",
    "\n",
    "params = {\"learning_rate\": [0.01, 0.1, 0.5],\n",
    "            \"min_samples_split\": [5, 10],\n",
    "            \"min_samples_leaf\": [3, 5],\n",
    "            \"max_depth\":[3,5,10],\n",
    "            \"max_features\":[\"sqrt\"],\n",
    "            \"n_estimators\":[100, 200]\n",
    "         } \n",
    "\n",
    "gb_cv = GridSearchCV(gb, params, cv = 3, n_jobs = -1, verbose = False)\n",
    "\n",
    "gb_cv.fit(X_train.values, np.ravel(y_train))"
   ]
  },
  {
   "cell_type": "code",
   "execution_count": 52,
   "metadata": {
    "execution": {
     "iopub.execute_input": "2022-11-19T16:05:06.414622Z",
     "iopub.status.busy": "2022-11-19T16:05:06.414295Z",
     "iopub.status.idle": "2022-11-19T16:05:06.419211Z",
     "shell.execute_reply": "2022-11-19T16:05:06.41831Z",
     "shell.execute_reply.started": "2022-11-19T16:05:06.41459Z"
    }
   },
   "outputs": [
    {
     "data": {
      "text/plain": [
       "GradientBoostingClassifier(learning_rate=0.01, max_features='sqrt',\n",
       "                           min_samples_leaf=3, min_samples_split=5,\n",
       "                           n_estimators=200, random_state=5)"
      ]
     },
     "execution_count": 52,
     "metadata": {},
     "output_type": "execute_result"
    }
   ],
   "source": [
    "gb = gb_cv.best_estimator_\n",
    "gb"
   ]
  },
  {
   "cell_type": "code",
   "execution_count": 53,
   "metadata": {
    "execution": {
     "iopub.execute_input": "2022-11-19T16:05:06.437373Z",
     "iopub.status.busy": "2022-11-19T16:05:06.436954Z",
     "iopub.status.idle": "2022-11-19T16:05:09.237012Z",
     "shell.execute_reply": "2022-11-19T16:05:09.235743Z",
     "shell.execute_reply.started": "2022-11-19T16:05:06.437335Z"
    }
   },
   "outputs": [
    {
     "data": {
      "text/plain": [
       "GridSearchCV(cv=3, estimator=RandomForestClassifier(random_state=1), n_jobs=-1,\n",
       "             param_grid={'max_depth': [20], 'max_features': ['sqrt'],\n",
       "                         'max_leaf_nodes': [175], 'min_samples_leaf': [5],\n",
       "                         'min_samples_split': [10], 'n_estimators': [250]},\n",
       "             verbose=False)"
      ]
     },
     "execution_count": 53,
     "metadata": {},
     "output_type": "execute_result"
    }
   ],
   "source": [
    "params_rf = {\"max_depth\": [20],\n",
    "                \"min_samples_split\": [10],\n",
    "                \"max_leaf_nodes\": [175],\n",
    "                \"min_samples_leaf\": [5],\n",
    "                \"n_estimators\": [250],\n",
    "                 \"max_features\": [\"sqrt\"],\n",
    "                }\n",
    "\n",
    "rf = RandomForestClassifier(random_state=1)\n",
    "\n",
    "rf_cv = GridSearchCV(rf, params_rf, cv = 3, n_jobs = -1, verbose = False)\n",
    "\n",
    "rf_cv.fit(X_train.values, np.ravel(y_train))"
   ]
  },
  {
   "cell_type": "code",
   "execution_count": 54,
   "metadata": {
    "execution": {
     "iopub.execute_input": "2022-11-19T16:05:09.239014Z",
     "iopub.status.busy": "2022-11-19T16:05:09.238658Z",
     "iopub.status.idle": "2022-11-19T16:05:09.243741Z",
     "shell.execute_reply": "2022-11-19T16:05:09.24254Z",
     "shell.execute_reply.started": "2022-11-19T16:05:09.238982Z"
    }
   },
   "outputs": [],
   "source": [
    "rf = rf_cv.best_estimator_\n",
    "\n",
    "from sklearn.metrics import confusion_matrix, roc_curve, roc_auc_score\n",
    "\n",
    "def analyze(model):\n",
    "    fpr, tpr, _ = roc_curve(y_test, model.predict_proba(X_test.values)[:,1]) #test AUC\n",
    "    plt.figure(figsize=(9,8))\n",
    "    plt.plot([0, 1], [0, 1], 'k--')\n",
    "    plt.plot(fpr, tpr, label=\"test\")\n",
    "\n",
    "    fpr_train, tpr_train, _ = roc_curve(y_train, model.predict_proba(X_train.values)[:,1]) #train AUC\n",
    "    plt.plot(fpr_train, tpr_train, label=\"train\")\n",
    "    auc_test = roc_auc_score(y_test, model.predict_proba(X_test.values)[:,1])\n",
    "    auc_train = roc_auc_score(y_train, model.predict_proba(X_train.values)[:,1])\n",
    "    plt.legend()\n",
    "    plt.title('AUC score is %.2f on test and %.2f on training'%(auc_test, auc_train))\n",
    "    plt.show()\n",
    "    \n",
    "    plt.figure(figsize=(9, 8))\n",
    "    cm = confusion_matrix(y_test, model.predict(X_test.values))\n",
    "    sns.heatmap(cm, annot=True, fmt=\"d\")"
   ]
  },
  {
   "cell_type": "code",
   "execution_count": 55,
   "metadata": {
    "execution": {
     "iopub.execute_input": "2022-11-19T16:05:09.27677Z",
     "iopub.status.busy": "2022-11-19T16:05:09.276381Z",
     "iopub.status.idle": "2022-11-19T16:05:09.852558Z",
     "shell.execute_reply": "2022-11-19T16:05:09.85139Z",
     "shell.execute_reply.started": "2022-11-19T16:05:09.276736Z"
    }
   },
   "outputs": [
    {
     "data": {
      "image/png": "[encoded data removed]",
      "text/plain": [
       "<Figure size 648x576 with 1 Axes>"
      ]
     },
     "metadata": {
      "needs_background": "light"
     },
     "output_type": "display_data"
    },
    {
     "data": {
      "image/png": "[encoded data removed]",
      "text/plain": [
       "<Figure size 648x576 with 2 Axes>"
      ]
     },
     "metadata": {
      "needs_background": "light"
     },
     "output_type": "display_data"
    }
   ],
   "source": [
    "analyze(gb)"
   ]
  },
  {
   "cell_type": "code",
   "execution_count": 56,
   "metadata": {
    "execution": {
     "iopub.execute_input": "2022-11-19T16:05:09.854178Z",
     "iopub.status.busy": "2022-11-19T16:05:09.853848Z",
     "iopub.status.idle": "2022-11-19T16:05:10.836476Z",
     "shell.execute_reply": "2022-11-19T16:05:10.835294Z",
     "shell.execute_reply.started": "2022-11-19T16:05:09.854147Z"
    }
   },
   "outputs": [
    {
     "data": {
      "image/png": "[encoded data removed]",
      "text/plain": [
       "<Figure size 648x576 with 1 Axes>"
      ]
     },
     "metadata": {
      "needs_background": "light"
     },
     "output_type": "display_data"
    },
    {
     "data": {
      "image/png": "[encoded data removed]",
      "text/plain": [
       "<Figure size 648x576 with 2 Axes>"
      ]
     },
     "metadata": {
      "needs_background": "light"
     },
     "output_type": "display_data"
    }
   ],
   "source": [
    "analyze(rf)"
   ]
  },
  {
   "cell_type": "markdown",
   "metadata": {},
   "source": [
    "# The Random Forest model is a little bit better but seems to underfit. So, we will use the Gradient Boosting Model."
   ]
  },
  {
   "cell_type": "code",
   "execution_count": 57,
   "metadata": {
    "execution": {
     "iopub.execute_input": "2022-11-19T16:05:10.838427Z",
     "iopub.status.busy": "2022-11-19T16:05:10.838026Z",
     "iopub.status.idle": "2022-11-19T16:05:10.844444Z",
     "shell.execute_reply": "2022-11-19T16:05:10.843164Z",
     "shell.execute_reply.started": "2022-11-19T16:05:10.838392Z"
    }
   },
   "outputs": [],
   "source": [
    "from operator import itemgetter"
   ]
  },
  {
   "cell_type": "markdown",
   "metadata": {},
   "source": [
    "# Simulation starting now!\n",
    "\n",
    "we'll get in the wikipedia the teams and group phase matches first"
   ]
  },
  {
   "cell_type": "code",
   "execution_count": 58,
   "metadata": {
    "execution": {
     "iopub.execute_input": "2022-11-19T16:05:10.846393Z",
     "iopub.status.busy": "2022-11-19T16:05:10.845925Z",
     "iopub.status.idle": "2022-11-19T16:05:11.758012Z",
     "shell.execute_reply": "2022-11-19T16:05:11.756722Z",
     "shell.execute_reply.started": "2022-11-19T16:05:10.846344Z"
    }
   },
   "outputs": [],
   "source": [
    "dfs = pd.read_html(r\"https://en.wikipedia.org/wiki/2022_FIFA_World_Cup#Teams\")"
   ]
  },
  {
   "cell_type": "code",
   "execution_count": 59,
   "metadata": {
    "execution": {
     "iopub.execute_input": "2022-11-19T16:05:11.766197Z",
     "iopub.status.busy": "2022-11-19T16:05:11.765768Z",
     "iopub.status.idle": "2022-11-19T16:05:11.774187Z",
     "shell.execute_reply": "2022-11-19T16:05:11.773213Z",
     "shell.execute_reply.started": "2022-11-19T16:05:11.766159Z"
    }
   },
   "outputs": [],
   "source": [
    "from collections.abc import Iterable\n",
    "\n",
    "for i in range(len(dfs)):\n",
    "    df = dfs[i]\n",
    "    cols = list(df.columns.values)\n",
    "    \n",
    "    if isinstance(cols[0], Iterable):\n",
    "        if any(\"Tie-breaking criteria\" in c for c in cols):\n",
    "            start_pos = i+1\n",
    "\n",
    "        if any(\"Match 46\" in c for c in cols):\n",
    "            end_pos = i+1"
   ]
  },
  {
   "cell_type": "code",
   "execution_count": 66,
   "metadata": {
    "execution": {
     "iopub.execute_input": "2022-11-19T16:05:11.776042Z",
     "iopub.status.busy": "2022-11-19T16:05:11.775715Z",
     "iopub.status.idle": "2022-11-19T16:05:11.788834Z",
     "shell.execute_reply": "2022-11-19T16:05:11.787731Z",
     "shell.execute_reply.started": "2022-11-19T16:05:11.776012Z"
    }
   },
   "outputs": [],
   "source": [
    "matches = []\n",
    "groups = [\"A\", \"B\", \"C\", \"D\", \"E\", \"F\", \"G\", \"H\"]\n",
    "group_count = 0 \n",
    "\n",
    "table = {}\n",
    "\n",
    "table[groups[group_count]] = [[a.split(\" \")[0], 0, []] for a in list(dfs[start_pos].iloc[:, 1].values)]\n",
    "\n",
    "for i in range(12, 66, 1):\n",
    "    if len(dfs[i].columns) == 3:\n",
    "        team_1 = dfs[i].columns.values[0]\n",
    "        team_2 = dfs[i].columns.values[-1]\n",
    "        \n",
    "        matches.append((groups[group_count], team_1, team_2))\n",
    "    else:\n",
    "        group_count+=1\n",
    "        table[groups[group_count]] = [[a, 0, []] for a in list(dfs[i].iloc[:, 1].values)]"
   ]
  },
  {
   "cell_type": "markdown",
   "metadata": {},
   "source": [
    "Above, we also store the team's points at the group and its probabilities of win in each game. The mean of team's wins probabilities will be used as tiebreaker when two teams have the same number of points."
   ]
  },
  {
   "cell_type": "code",
   "execution_count": 67,
   "metadata": {
    "execution": {
     "iopub.execute_input": "2022-11-19T16:05:11.821233Z",
     "iopub.status.busy": "2022-11-19T16:05:11.820833Z",
     "iopub.status.idle": "2022-11-19T16:05:11.832339Z",
     "shell.execute_reply": "2022-11-19T16:05:11.831022Z",
     "shell.execute_reply.started": "2022-11-19T16:05:11.8212Z"
    }
   },
   "outputs": [],
   "source": [
    "def find_stats(team_1):\n",
    "#team_1 = \"Qatar\"\n",
    "    past_games = team_stats_raw[(team_stats_raw[\"team\"] == team_1)].sort_values(\"date\")\n",
    "    last5 = team_stats_raw[(team_stats_raw[\"team\"] == team_1)].sort_values(\"date\").tail(5)\n",
    "\n",
    "    team_1_rank = past_games[\"rank\"].values[-1]\n",
    "    team_1_goals = past_games.score.mean()\n",
    "    team_1_goals_l5 = last5.score.mean()\n",
    "    team_1_goals_suf = past_games.suf_score.mean()\n",
    "    team_1_goals_suf_l5 = last5.suf_score.mean()\n",
    "    team_1_rank_suf = past_games.rank_suf.mean()\n",
    "    team_1_rank_suf_l5 = last5.rank_suf.mean()\n",
    "    team_1_gp_rank = past_games.points_by_rank.mean()\n",
    "    team_1_gp_rank_l5 = last5.points_by_rank.mean()\n",
    "\n",
    "    return [team_1_rank, team_1_goals, team_1_goals_l5, team_1_goals_suf, team_1_goals_suf_l5, team_1_rank_suf, team_1_rank_suf_l5, team_1_gp_rank, team_1_gp_rank_l5]"
   ]
  },
  {
   "cell_type": "code",
   "execution_count": 68,
   "metadata": {
    "execution": {
     "iopub.execute_input": "2022-11-19T16:05:11.83501Z",
     "iopub.status.busy": "2022-11-19T16:05:11.834296Z",
     "iopub.status.idle": "2022-11-19T16:05:11.846997Z",
     "shell.execute_reply": "2022-11-19T16:05:11.845638Z",
     "shell.execute_reply.started": "2022-11-19T16:05:11.834974Z"
    }
   },
   "outputs": [],
   "source": [
    "def find_features(team_1, team_2):\n",
    "    rank_dif = team_1[0] - team_2[0]\n",
    "    goals_dif = team_1[1] - team_2[1]\n",
    "    goals_dif_l5 = team_1[2] - team_2[2]\n",
    "    goals_suf_dif = team_1[3] - team_2[3]\n",
    "    goals_suf_dif_l5 = team_1[4] - team_2[4]\n",
    "    goals_per_ranking_dif = (team_1[1]/team_1[5]) - (team_2[1]/team_2[5])\n",
    "    dif_rank_agst = team_1[5] - team_2[5]\n",
    "    dif_rank_agst_l5 = team_1[6] - team_2[6]\n",
    "    dif_gp_rank = team_1[7] - team_2[7]\n",
    "    dif_gp_rank_l5 = team_1[8] - team_2[8]\n",
    "    \n",
    "    return [rank_dif, goals_dif, goals_dif_l5, goals_suf_dif, goals_suf_dif_l5, goals_per_ranking_dif, dif_rank_agst, dif_rank_agst_l5, dif_gp_rank, dif_gp_rank_l5, 1, 0]"
   ]
  },
  {
   "cell_type": "markdown",
   "metadata": {},
   "source": [
    "## Now, we are able to simulate.\n",
    "\n",
    "Since the model simulates if team 1 will win or not win, it's needed to create some criteria to define a draw. Also, since we have not home advantage at World Cup, the idea is to predict game two times, changing team 1 and team 2. The team with the highest mean of probabilities will be assigned as winner. At the group phase, if \"home team\" win as team 1 and loses as team 2, or if \"home team\" win as team 2 and loses at team 1, there will be assigned a draw in that match."
   ]
  },
  {
   "cell_type": "code",
   "execution_count": 69,
   "metadata": {
    "execution": {
     "iopub.execute_input": "2022-11-19T16:05:11.848705Z",
     "iopub.status.busy": "2022-11-19T16:05:11.848376Z",
     "iopub.status.idle": "2022-11-19T16:05:12.352313Z",
     "shell.execute_reply": "2022-11-19T16:05:12.351195Z",
     "shell.execute_reply.started": "2022-11-19T16:05:11.848676Z"
    },
    "scrolled": false
   },
   "outputs": [
    {
     "name": "stdout",
     "output_type": "stream",
     "text": [
      "\n",
      "\n",
      "---------- Starting Analysis for Group A ----------\n",
      "Group A - Senegal vs. Netherlands: Winner Netherlands with 0.62 probability\n",
      "Group A - Qatar vs. Senegal: Winner Senegal with 0.60 probability\n",
      "Group A - Netherlands vs. Ecuador: Winner Netherlands with 0.73 probability\n",
      "Group A - Ecuador vs. Senegal: Draw\n",
      "Group A - Netherlands vs. Qatar: Winner Netherlands with 0.78 probability\n",
      "\n",
      "\n",
      "Group A advanced: \n",
      "Netherlands -------- 9\n",
      "Senegal -------- 4\n",
      "Ecuador -------- 1\n",
      "Qatar -------- 0\n",
      "\n",
      "\n",
      "---------- Starting Analysis for Group B ----------\n",
      "Group B - England vs. Iran: Winner England with 0.62 probability\n",
      "Group B - United States vs. Wales: Draw\n",
      "Group B - Wales vs. Iran: Draw\n",
      "Group B - England vs. United States: Winner England with 0.61 probability\n",
      "Group B - Wales vs. England: Winner England with 0.64 probability\n",
      "Group B - Iran vs. United States: Winner United States with 0.58 probability\n",
      "\n",
      "\n",
      "Group B advanced: \n",
      "England -------- 9\n",
      "United States -------- 4\n",
      "Wales -------- 2\n",
      "Iran -------- 1\n",
      "\n",
      "\n",
      "---------- Starting Analysis for Group C ----------\n",
      "Group C - Argentina vs. Saudi Arabia: Winner Argentina with 0.79 probability\n",
      "Group C - Mexico vs. Poland: Draw\n",
      "Group C - Poland vs. Saudi Arabia: Winner Poland with 0.70 probability\n",
      "Group C - Argentina vs. Mexico: Winner Argentina with 0.67 probability\n",
      "Group C - Poland vs. Argentina: Winner Argentina with 0.71 probability\n",
      "Group C - Saudi Arabia vs. Mexico: Winner Mexico with 0.71 probability\n",
      "\n",
      "\n",
      "Group C advanced: \n",
      "Argentina -------- 9\n",
      "Poland -------- 4\n",
      "Mexico -------- 4\n",
      "Saudi Arabia -------- 0\n",
      "\n",
      "\n",
      "---------- Starting Analysis for Group D ----------\n",
      "Group D - Denmark vs. Tunisia: Winner Denmark with 0.68 probability\n",
      "Group D - France vs. Australia: Winner France with 0.71 probability\n",
      "Group D - Tunisia vs. Australia: Draw\n",
      "Group D - France vs. Denmark: Draw\n",
      "Group D - Australia vs. Denmark: Winner Denmark with 0.71 probability\n",
      "Group D - Tunisia vs. France: Winner France with 0.69 probability\n",
      "\n",
      "\n",
      "Group D advanced: \n",
      "France -------- 7\n",
      "Denmark -------- 7\n",
      "Tunisia -------- 1\n",
      "Australia -------- 1\n",
      "\n",
      "\n",
      "---------- Starting Analysis for Group E ----------\n",
      "Group E - Germany vs. Japan: Winner Germany with 0.62 probability\n",
      "Group E - Spain vs. Costa Rica: Winner Spain with 0.76 probability\n",
      "Group E - Japan vs. Costa Rica: Winner Japan with 0.63 probability\n",
      "Group E - Spain vs. Germany: Draw\n",
      "Group E - Japan vs. Spain: Winner Spain with 0.67 probability\n",
      "Group E - Costa Rica vs. Germany: Winner Germany with 0.65 probability\n",
      "\n",
      "\n",
      "Group E advanced: \n",
      "Spain -------- 7\n",
      "Germany -------- 7\n",
      "Japan -------- 3\n",
      "Costa Rica -------- 0\n",
      "\n",
      "\n",
      "---------- Starting Analysis for Group F ----------\n",
      "Group F - Morocco vs. Croatia: Winner Croatia with 0.58 probability\n",
      "Group F - Belgium vs. Canada: Winner Belgium with 0.75 probability\n",
      "Group F - Belgium vs. Morocco: Winner Belgium with 0.67 probability\n",
      "Group F - Croatia vs. Canada: Winner Croatia with 0.64 probability\n",
      "Group F - Croatia vs. Belgium: Winner Belgium with 0.64 probability\n",
      "Group F - Canada vs. Morocco: Draw\n",
      "\n",
      "\n",
      "Group F advanced: \n",
      "Belgium -------- 9\n",
      "Croatia -------- 6\n",
      "Morocco -------- 1\n",
      "Canada -------- 1\n",
      "\n",
      "\n",
      "---------- Starting Analysis for Group G ----------\n",
      "Group G - Switzerland vs. Cameroon: Winner Switzerland with 0.69 probability\n",
      "Group G - Brazil vs. Serbia: Winner Brazil with 0.72 probability\n",
      "Group G - Cameroon vs. Serbia: Winner Serbia with 0.66 probability\n",
      "Group G - Brazil vs. Switzerland: Draw\n",
      "Group G - Serbia vs. Switzerland: Winner Switzerland with 0.57 probability\n",
      "Group G - Cameroon vs. Brazil: Winner Brazil with 0.81 probability\n",
      "\n",
      "\n",
      "Group G advanced: \n",
      "Brazil -------- 7\n",
      "Switzerland -------- 7\n",
      "Serbia -------- 3\n",
      "Cameroon -------- 0\n",
      "\n",
      "\n",
      "---------- Starting Analysis for Group H ----------\n",
      "Group H - Uruguay vs. South Korea: Winner Uruguay with 0.62 probability\n",
      "Group H - Portugal vs. Ghana: Winner Portugal with 0.81 probability\n",
      "Group H - South Korea vs. Ghana: Winner South Korea with 0.76 probability\n",
      "Group H - Portugal vs. Uruguay: Winner Portugal with 0.60 probability\n",
      "Group H - Ghana vs. Uruguay: Winner Uruguay with 0.77 probability\n",
      "Group H - South Korea vs. Portugal: Winner Portugal with 0.67 probability\n",
      "\n",
      "\n",
      "Group H advanced: \n",
      "Portugal -------- 9\n",
      "Uruguay -------- 6\n",
      "South Korea -------- 3\n",
      "Ghana -------- 0\n"
     ]
    }
   ],
   "source": [
    "advanced_group = []\n",
    "last_group = \"\"\n",
    "\n",
    "for k in table.keys():\n",
    "    for t in table[k]:\n",
    "        t[1] = 0\n",
    "        t[2] = []\n",
    "        \n",
    "for teams in matches:\n",
    "    draw = False\n",
    "    team_1 = find_stats(teams[1])\n",
    "    team_2 = find_stats(teams[2])\n",
    "\n",
    "    \n",
    "\n",
    "    features_g1 = find_features(team_1, team_2)\n",
    "    features_g2 = find_features(team_2, team_1)\n",
    "\n",
    "    probs_g1 = gb.predict_proba([features_g1])\n",
    "    probs_g2 = gb.predict_proba([features_g2])\n",
    "    \n",
    "    team_1_prob_g1 = probs_g1[0][0]\n",
    "    team_1_prob_g2 = probs_g2[0][1]\n",
    "    team_2_prob_g1 = probs_g1[0][1]\n",
    "    team_2_prob_g2 = probs_g2[0][0]\n",
    "\n",
    "    team_1_prob = (probs_g1[0][0] + probs_g2[0][1])/2\n",
    "    team_2_prob = (probs_g2[0][0] + probs_g1[0][1])/2\n",
    "    \n",
    "    if ((team_1_prob_g1 > team_2_prob_g1) & (team_2_prob_g2 > team_1_prob_g2)) | ((team_1_prob_g1 < team_2_prob_g1) & (team_2_prob_g2 < team_1_prob_g2)):\n",
    "        draw=True\n",
    "        for i in table[teams[0]]:\n",
    "            if i[0] == teams[1] or i[0] == teams[2]:\n",
    "                i[1] += 1\n",
    "                \n",
    "    elif team_1_prob > team_2_prob:\n",
    "        winner = teams[1]\n",
    "        winner_proba = team_1_prob\n",
    "        for i in table[teams[0]]:\n",
    "            if i[0] == teams[1]:\n",
    "                i[1] += 3\n",
    "                \n",
    "    elif team_2_prob > team_1_prob:  \n",
    "        winner = teams[2]\n",
    "        winner_proba = team_2_prob\n",
    "        for i in table[teams[0]]:\n",
    "            if i[0] == teams[2]:\n",
    "                i[1] += 3\n",
    "    \n",
    "    for i in table[teams[0]]:\n",
    "            if i[0] == teams[1]:\n",
    "                i[2].append(team_1_prob)\n",
    "            if i[0] == teams[2]:\n",
    "                i[2].append(team_2_prob)\n",
    "\n",
    "    if last_group != teams[0]:\n",
    "        if last_group != \"\":\n",
    "            print(\"\\n\")\n",
    "            print(\"Group %s advanced: \"%(last_group))\n",
    "            \n",
    "            for i in table[last_group]:\n",
    "                i[2] = np.mean(i[2])\n",
    "            \n",
    "            final_points = table[last_group]\n",
    "            final_table = sorted(final_points, key=itemgetter(1, 2), reverse = True)\n",
    "            advanced_group.append([final_table[0][0], final_table[1][0]])\n",
    "            for i in final_table:\n",
    "                print(\"%s -------- %d\"%(i[0], i[1]))\n",
    "        print(\"\\n\")\n",
    "        print(\"-\"*10+\" Starting Analysis for Group %s \"%(teams[0])+\"-\"*10)\n",
    "        \n",
    "        \n",
    "    if draw == False:\n",
    "        print(\"Group %s - %s vs. %s: Winner %s with %.2f probability\"%(teams[0], teams[1], teams[2], winner, winner_proba))\n",
    "    else:\n",
    "        print(\"Group %s - %s vs. %s: Draw\"%(teams[0], teams[1], teams[2]))\n",
    "    last_group =  teams[0]\n",
    "\n",
    "print(\"\\n\")\n",
    "print(\"Group %s advanced: \"%(last_group))\n",
    "\n",
    "for i in table[last_group]:\n",
    "    i[2] = np.mean(i[2])\n",
    "            \n",
    "final_points = table[last_group]\n",
    "final_table = sorted(final_points, key=itemgetter(1, 2), reverse = True)\n",
    "advanced_group.append([final_table[0][0], final_table[1][0]])\n",
    "for i in final_table:\n",
    "    print(\"%s -------- %d\"%(i[0], i[1]))"
   ]
  },
  {
   "cell_type": "code",
   "execution_count": 70,
   "metadata": {
    "execution": {
     "iopub.execute_input": "2022-11-19T16:05:12.354185Z",
     "iopub.status.busy": "2022-11-19T16:05:12.353752Z",
     "iopub.status.idle": "2022-11-19T16:05:12.359488Z",
     "shell.execute_reply": "2022-11-19T16:05:12.358309Z",
     "shell.execute_reply.started": "2022-11-19T16:05:12.354152Z"
    }
   },
   "outputs": [],
   "source": [
    "advanced = advanced_group"
   ]
  },
  {
   "cell_type": "code",
   "execution_count": 71,
   "metadata": {
    "execution": {
     "iopub.execute_input": "2022-11-19T16:05:12.361415Z",
     "iopub.status.busy": "2022-11-19T16:05:12.360953Z",
     "iopub.status.idle": "2022-11-19T16:05:12.372349Z",
     "shell.execute_reply": "2022-11-19T16:05:12.371347Z",
     "shell.execute_reply.started": "2022-11-19T16:05:12.361379Z"
    }
   },
   "outputs": [],
   "source": [
    "playoffs = {\"Round of 16\": [], \"Quarter-Final\": [], \"Semi-Final\": [], \"Final\": []}"
   ]
  },
  {
   "cell_type": "code",
   "execution_count": 72,
   "metadata": {
    "execution": {
     "iopub.execute_input": "2022-11-19T16:05:12.37486Z",
     "iopub.status.busy": "2022-11-19T16:05:12.374365Z",
     "iopub.status.idle": "2022-11-19T16:05:12.544568Z",
     "shell.execute_reply": "2022-11-19T16:05:12.54341Z",
     "shell.execute_reply.started": "2022-11-19T16:05:12.374814Z"
    },
    "scrolled": false
   },
   "outputs": [
    {
     "name": "stdout",
     "output_type": "stream",
     "text": [
      "----------\n",
      "Starting simulation of Round of 16\n",
      "----------\n",
      "\n",
      "\n",
      "Netherlands vs. United States: Netherlands advances with prob 0.54\n",
      "Argentina vs. Denmark: Argentina advances with prob 0.59\n",
      "Spain vs. Croatia: Spain advances with prob 0.61\n",
      "Brazil vs. Uruguay: Brazil advances with prob 0.64\n",
      "Senegal vs. England: England advances with prob 0.64\n",
      "Poland vs. France: France advances with prob 0.67\n",
      "Germany vs. Belgium: Belgium advances with prob 0.53\n",
      "Switzerland vs. Portugal: Portugal advances with prob 0.57\n",
      "----------\n",
      "Starting simulation of Quarter-Final\n",
      "----------\n",
      "\n",
      "\n",
      "Netherlands vs. Argentina: Netherlands advances with prob 0.51\n",
      "Spain vs. Brazil: Brazil advances with prob 0.54\n",
      "England vs. France: England advances with prob 0.51\n",
      "Belgium vs. Portugal: Portugal advances with prob 0.52\n",
      "----------\n",
      "Starting simulation of Semi-Final\n",
      "----------\n",
      "\n",
      "\n",
      "Netherlands vs. Brazil: Brazil advances with prob 0.55\n",
      "England vs. Portugal: England advances with prob 0.51\n",
      "----------\n",
      "Starting simulation of Final\n",
      "----------\n",
      "\n",
      "\n",
      "Brazil vs. England: Brazil advances with prob 0.56\n"
     ]
    }
   ],
   "source": [
    "for p in playoffs.keys():\n",
    "    playoffs[p] = []\n",
    "\n",
    "actual_round = \"\"\n",
    "next_rounds = []\n",
    "\n",
    "for p in playoffs.keys():\n",
    "    if p == \"Round of 16\":\n",
    "        control = []\n",
    "        for a in range(0, len(advanced*2), 1):\n",
    "            if a < len(advanced):\n",
    "                if a % 2 == 0:\n",
    "                    control.append((advanced*2)[a][0])\n",
    "                else:\n",
    "                    control.append((advanced*2)[a][1])\n",
    "            else:\n",
    "                if a % 2 == 0:\n",
    "                    control.append((advanced*2)[a][1])\n",
    "                else:\n",
    "                    control.append((advanced*2)[a][0])\n",
    "\n",
    "        playoffs[p] = [[control[c], control[c+1]] for c in range(0, len(control)-1, 1) if c%2 == 0]\n",
    "        \n",
    "        for i in range(0, len(playoffs[p]), 1):\n",
    "            game = playoffs[p][i]\n",
    "            \n",
    "            home = game[0]\n",
    "            away = game[1]\n",
    "            team_1 = find_stats(home)\n",
    "            team_2 = find_stats(away)\n",
    "\n",
    "            features_g1 = find_features(team_1, team_2)\n",
    "            features_g2 = find_features(team_2, team_1)\n",
    "            \n",
    "            probs_g1 = gb.predict_proba([features_g1])\n",
    "            probs_g2 = gb.predict_proba([features_g2])\n",
    "            \n",
    "            team_1_prob = (probs_g1[0][0] + probs_g2[0][1])/2\n",
    "            team_2_prob = (probs_g2[0][0] + probs_g1[0][1])/2\n",
    "            \n",
    "            if actual_round != p:\n",
    "                print(\"-\"*10)\n",
    "                print(\"Starting simulation of %s\"%(p))\n",
    "                print(\"-\"*10)\n",
    "                print(\"\\n\")\n",
    "            \n",
    "            if team_1_prob < team_2_prob:\n",
    "                print(\"%s vs. %s: %s advances with prob %.2f\"%(home, away, away, team_2_prob))\n",
    "                next_rounds.append(away)\n",
    "            else:\n",
    "                print(\"%s vs. %s: %s advances with prob %.2f\"%(home, away, home, team_1_prob))\n",
    "                next_rounds.append(home)\n",
    "            \n",
    "            game.append([team_1_prob, team_2_prob])\n",
    "            playoffs[p][i] = game\n",
    "            actual_round = p\n",
    "        \n",
    "    else:\n",
    "        playoffs[p] = [[next_rounds[c], next_rounds[c+1]] for c in range(0, len(next_rounds)-1, 1) if c%2 == 0]\n",
    "        next_rounds = []\n",
    "        for i in range(0, len(playoffs[p])):\n",
    "            game = playoffs[p][i]\n",
    "            home = game[0]\n",
    "            away = game[1]\n",
    "            team_1 = find_stats(home)\n",
    "            team_2 = find_stats(away)\n",
    "            \n",
    "            features_g1 = find_features(team_1, team_2)\n",
    "            features_g2 = find_features(team_2, team_1)\n",
    "            \n",
    "            probs_g1 = gb.predict_proba([features_g1])\n",
    "            probs_g2 = gb.predict_proba([features_g2])\n",
    "            \n",
    "            team_1_prob = (probs_g1[0][0] + probs_g2[0][1])/2\n",
    "            team_2_prob = (probs_g2[0][0] + probs_g1[0][1])/2\n",
    "            \n",
    "            if actual_round != p:\n",
    "                print(\"-\"*10)\n",
    "                print(\"Starting simulation of %s\"%(p))\n",
    "                print(\"-\"*10)\n",
    "                print(\"\\n\")\n",
    "            \n",
    "            if team_1_prob < team_2_prob:\n",
    "                print(\"%s vs. %s: %s advances with prob %.2f\"%(home, away, away, team_2_prob))\n",
    "                next_rounds.append(away)\n",
    "            else:\n",
    "                print(\"%s vs. %s: %s advances with prob %.2f\"%(home, away, home, team_1_prob))\n",
    "                next_rounds.append(home)\n",
    "            game.append([team_1_prob, team_2_prob])\n",
    "            playoffs[p][i] = game\n",
    "            actual_round = p\n",
    "            "
   ]
  },
  {
   "cell_type": "markdown",
   "metadata": {},
   "source": [
    "And that's the final simulation! Brazil has won the 6th title! Hoping that my predictions are correct now. \n",
    "\n",
    "It's nice to analyze too the possible upsets. Belgium passed against Germany, and were defeated by Portugal. Argentina - Netherlands game is very tight, with Netherlands passing by nearly 1%. The same happens between France and England, with England passing. I think England as finalist was the biggest upset of the simulation.\n",
    "\n",
    "Update: the databases were updated with the last friendlies that national teams played before the World Cup, and, with that, some simulations changed. France now beats England at quarter-final, and they are defeated by Portugal in the semis! Portugal at the finals is a huge surprise! \n",
    "\n",
    "# Conclusion\n",
    "\n",
    "The goal of this was to improve my knowledge with Machine Learning simulating something that I love (Football World Cup). I think that's amazing to create models that we can see the result in real life, and that's what is going to happen!\n",
    "\n",
    "In general, I think that the model predicted like the common sense of people who watch football. There are not huge surprises in the simulation. It's also nice to see games with teams that are more unkown in group phase, like Iran vs. Wales or Senegal vs. Ecuador. I think that in games like that, the model is a good guidance to betting, since the knowledge of most people second tier national teams is not great."
   ]
  },
  {
   "cell_type": "code",
   "execution_count": null,
   "metadata": {},
   "outputs": [],
   "source": []
  }
 ],
 "metadata": {
  "kernelspec": {
   "display_name": "Python 3 (ipykernel)",
   "language": "python",
   "name": "python3"
  },
  "language_info": {
   "codemirror_mode": {
    "name": "ipython",
    "version": 3
   },
   "file_extension": ".py",
   "mimetype": "text/x-python",
   "name": "python",
   "nbconvert_exporter": "python",
   "pygments_lexer": "ipython3",
   "version": "3.9.12"
  }
 },
 "nbformat": 4,
 "nbformat_minor": 4
}
